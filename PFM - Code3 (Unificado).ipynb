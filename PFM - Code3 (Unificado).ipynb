{
 "cells": [
  {
   "cell_type": "markdown",
   "metadata": {},
   "source": [
    "# Proyecto Fin de Máster (PFM) \n",
    "\n",
    "#### En el presente script se desarrollará el análisis estadístico y predictivo del rendimiento del R.Club Celta de Vigo tanto a nivel de equipo así como de determinados jugadores seleccionados en función de la distancia y altitud del equipo rival\n",
    "\n",
    "##### Se elaborará y/o empleará:\n",
    " * Un modelo de IA no supervisado para segmentar los distintos equipos en función de las variables distancia y altitud\n",
    " * Análisis estadístico a nivel de Equipo\n",
    " * Análisis estádistico de determinados jugadores\n",
    " * Empleo de un modelo predictivo supervisado para predecir el rendimiento de determinados jugadores.\n",
    "\n",
    "\n",
    "Por Alejandro Casares\n"
   ]
  },
  {
   "cell_type": "code",
   "execution_count": 51,
   "metadata": {},
   "outputs": [],
   "source": [
    "#Librerias usadas:\n",
    "import os\n",
    "import pandas as pd\n",
    "import numpy as np\n",
    "import statistics\n",
    "from sklearn.preprocessing import StandardScaler\n",
    "from sklearn.cluster import KMeans\n",
    "\n",
    "from matplotlib import pyplot as plt\n",
    "from matplotlib.ticker import FixedLocator, FixedFormatter\n",
    "from matplotlib.patches import Arc\n",
    "import seaborn as sns\n",
    "\n",
    "import xml.etree.ElementTree as ET\n",
    "from operator import itemgetter"
   ]
  },
  {
   "cell_type": "code",
   "execution_count": 52,
   "metadata": {},
   "outputs": [],
   "source": [
    "Equipos = pd.read_excel('Equipos_Liga_Santander_202021.xlsx')"
   ]
  },
  {
   "cell_type": "code",
   "execution_count": 53,
   "metadata": {},
   "outputs": [
    {
     "data": {
      "text/html": [
       "<div>\n",
       "<style scoped>\n",
       "    .dataframe tbody tr th:only-of-type {\n",
       "        vertical-align: middle;\n",
       "    }\n",
       "\n",
       "    .dataframe tbody tr th {\n",
       "        vertical-align: top;\n",
       "    }\n",
       "\n",
       "    .dataframe thead th {\n",
       "        text-align: right;\n",
       "    }\n",
       "</style>\n",
       "<table border=\"1\" class=\"dataframe\">\n",
       "  <thead>\n",
       "    <tr style=\"text-align: right;\">\n",
       "      <th></th>\n",
       "      <th>Equipo</th>\n",
       "      <th>Nombre Completo</th>\n",
       "      <th>Abrebiatura</th>\n",
       "      <th>Estadio</th>\n",
       "      <th>Latitud</th>\n",
       "      <th>Latitud_N</th>\n",
       "      <th>Longitud</th>\n",
       "      <th>Longitud_N</th>\n",
       "      <th>Altitud</th>\n",
       "      <th>Distancia</th>\n",
       "    </tr>\n",
       "  </thead>\n",
       "  <tbody>\n",
       "    <tr>\n",
       "      <th>0</th>\n",
       "      <td>Alavés</td>\n",
       "      <td>Deportivo Alavés S.A.D.</td>\n",
       "      <td>ALV</td>\n",
       "      <td>Mendizorroza</td>\n",
       "      <td>42°50′14″N</td>\n",
       "      <td>42.837222</td>\n",
       "      <td>2°41′17″O</td>\n",
       "      <td>-2.688056</td>\n",
       "      <td>517</td>\n",
       "      <td>656</td>\n",
       "    </tr>\n",
       "    <tr>\n",
       "      <th>1</th>\n",
       "      <td>Athletic</td>\n",
       "      <td>Athletic Club</td>\n",
       "      <td>ATH</td>\n",
       "      <td>San Mamés</td>\n",
       "      <td>43°15′51″N</td>\n",
       "      <td>43.264167</td>\n",
       "      <td>2°56′58″O</td>\n",
       "      <td>-2.949444</td>\n",
       "      <td>54</td>\n",
       "      <td>610</td>\n",
       "    </tr>\n",
       "    <tr>\n",
       "      <th>2</th>\n",
       "      <td>Atlético</td>\n",
       "      <td>Club Atlético de Madrid</td>\n",
       "      <td>ATM</td>\n",
       "      <td>Wanda Metropolitano</td>\n",
       "      <td>40°26′10″N</td>\n",
       "      <td>40.436111</td>\n",
       "      <td>3°35′58″O</td>\n",
       "      <td>-3.599444</td>\n",
       "      <td>664</td>\n",
       "      <td>677</td>\n",
       "    </tr>\n",
       "    <tr>\n",
       "      <th>3</th>\n",
       "      <td>Barcelona</td>\n",
       "      <td>Fútbol Club Barcelona</td>\n",
       "      <td>FCB</td>\n",
       "      <td>Camp Nou</td>\n",
       "      <td>41°22′51″N</td>\n",
       "      <td>41.380833</td>\n",
       "      <td>2°07′21″E</td>\n",
       "      <td>2.122500</td>\n",
       "      <td>190</td>\n",
       "      <td>1141</td>\n",
       "    </tr>\n",
       "    <tr>\n",
       "      <th>4</th>\n",
       "      <td>Betis</td>\n",
       "      <td>Real Betis Balompié</td>\n",
       "      <td>BET</td>\n",
       "      <td>Benito Villamarín</td>\n",
       "      <td>37°21′23″N</td>\n",
       "      <td>37.356389</td>\n",
       "      <td>5°58′54″O</td>\n",
       "      <td>-5.981667</td>\n",
       "      <td>11</td>\n",
       "      <td>726</td>\n",
       "    </tr>\n",
       "  </tbody>\n",
       "</table>\n",
       "</div>"
      ],
      "text/plain": [
       "      Equipo          Nombre Completo Abrebiatura              Estadio  \\\n",
       "0     Alavés  Deportivo Alavés S.A.D.         ALV         Mendizorroza   \n",
       "1   Athletic            Athletic Club         ATH            San Mamés   \n",
       "2   Atlético  Club Atlético de Madrid         ATM  Wanda Metropolitano   \n",
       "3  Barcelona    Fútbol Club Barcelona         FCB             Camp Nou   \n",
       "4      Betis      Real Betis Balompié         BET    Benito Villamarín   \n",
       "\n",
       "      Latitud  Latitud_N   Longitud  Longitud_N  Altitud  Distancia  \n",
       "0  42°50′14″N  42.837222  2°41′17″O   -2.688056      517        656  \n",
       "1  43°15′51″N  43.264167  2°56′58″O   -2.949444       54        610  \n",
       "2  40°26′10″N  40.436111  3°35′58″O   -3.599444      664        677  \n",
       "3  41°22′51″N  41.380833  2°07′21″E    2.122500      190       1141  \n",
       "4  37°21′23″N  37.356389  5°58′54″O   -5.981667       11        726  "
      ]
     },
     "execution_count": 53,
     "metadata": {},
     "output_type": "execute_result"
    }
   ],
   "source": [
    "Equipos.head()"
   ]
  },
  {
   "cell_type": "markdown",
   "metadata": {},
   "source": [
    "### Clustering"
   ]
  },
  {
   "cell_type": "code",
   "execution_count": 54,
   "metadata": {},
   "outputs": [],
   "source": [
    "# Escalar las variables Altitud y Distancia\n",
    "Equipos['Altitud_std'] = Equipos['Altitud']\n",
    "Equipos['Distancia_std'] = Equipos['Distancia']\n",
    "\n",
    "Equipos[['Altitud_std', 'Distancia_std']] = StandardScaler().fit_transform(Equipos[['Altitud', 'Distancia']])"
   ]
  },
  {
   "cell_type": "code",
   "execution_count": 55,
   "metadata": {},
   "outputs": [
    {
     "data": {
      "image/png": "[encoded data removed]",
      "text/plain": [
       "<Figure size 1152x576 with 1 Axes>"
      ]
     },
     "metadata": {
      "needs_background": "light"
     },
     "output_type": "display_data"
    }
   ],
   "source": [
    "# Visualizamos los datos\n",
    "X3 = Equipos[['Altitud_std', 'Distancia_std']].values\n",
    "plt.figure(figsize=(16, 8))\n",
    "plt.scatter(X3[:, 0], X3[:, 1], c=None, s=23, color='blue')\n",
    "plt.xlabel(\"Altitud_std\", fontsize=14)\n",
    "plt.ylabel(\"Distancia_std\", fontsize=14, rotation=90)\n",
    "plt.show()"
   ]
  },
  {
   "cell_type": "code",
   "execution_count": 56,
   "metadata": {},
   "outputs": [
    {
     "data": {
      "image/png": "[encoded data removed]",
      "text/plain": [
       "<Figure size 576x252 with 1 Axes>"
      ]
     },
     "metadata": {
      "needs_background": "light"
     },
     "output_type": "display_data"
    }
   ],
   "source": [
    "#Obtención del númeor de clusters\n",
    "\n",
    "kmeans_per_k = [KMeans(n_clusters=k, random_state=42).fit(X3)\n",
    "                for k in range(1, 10)]\n",
    "inertias = [model.inertia_ for model in kmeans_per_k]\n",
    "\n",
    "plt.figure(figsize=(8, 3.5))\n",
    "plt.plot(range(1, 10), inertias, \"bo-\")\n",
    "plt.xlabel(\"$k$\", fontsize=14)\n",
    "plt.ylabel(\"Inertia\", fontsize=14)\n",
    "plt.show()"
   ]
  },
  {
   "cell_type": "code",
   "execution_count": 57,
   "metadata": {},
   "outputs": [],
   "source": [
    "def Exec_KMeans(k, X):\n",
    "    \n",
    "    kmeans = KMeans(n_clusters=k, random_state=42)\n",
    "    y_pred = kmeans.fit_predict(X)\n",
    "    \n",
    "    print(\"Centros de los clusters: \", kmeans.cluster_centers_)\n",
    "    \n",
    "    plt.figure(figsize=(16, 6))\n",
    "    cl = ['red', 'green', 'blue', 'black', 'yellow']\n",
    "    assign = []\n",
    "    for row in y_pred:\n",
    "        assign.append(cl[row])\n",
    "        \n",
    "    plt.scatter(X[:,0], X[:,1], c=assign, s=70)\n",
    "    \n",
    "    plt.show()\n",
    "    \n",
    "    return y_pred"
   ]
  },
  {
   "cell_type": "code",
   "execution_count": 58,
   "metadata": {},
   "outputs": [
    {
     "name": "stdout",
     "output_type": "stream",
     "text": [
      "Centros de los clusters:  [[ 1.02791192 -0.18661329]\n",
      " [-0.80448565  1.07380444]\n",
      " [-0.85131956 -0.12311775]\n",
      " [-0.97218125 -3.07391382]]\n"
     ]
    },
    {
     "data": {
      "image/png": "[encoded data removed]",
      "text/plain": [
       "<Figure size 1152x432 with 1 Axes>"
      ]
     },
     "metadata": {
      "needs_background": "light"
     },
     "output_type": "display_data"
    }
   ],
   "source": [
    "# Ejecutamos KMeans con el número de clusters (K) que hayas elegido y guardalo en una variable 'Cluster'\n",
    "# en el dataset original (dt, si es tu caso)\n",
    "selectedK = 4\n",
    "y_pred = Exec_KMeans(selectedK, X3)"
   ]
  },
  {
   "cell_type": "code",
   "execution_count": 59,
   "metadata": {},
   "outputs": [
    {
     "name": "stdout",
     "output_type": "stream",
     "text": [
      "Centros de los clusters:  [[ 1.02791192 -0.18661329]\n",
      " [-0.80448565  1.07380444]\n",
      " [-0.85131956 -0.12311775]\n",
      " [-0.97218125 -3.07391382]]\n"
     ]
    },
    {
     "data": {
      "image/png": "[encoded data removed]",
      "text/plain": [
       "<Figure size 1152x432 with 1 Axes>"
      ]
     },
     "metadata": {
      "needs_background": "light"
     },
     "output_type": "display_data"
    },
    {
     "data": {
      "text/html": [
       "<div>\n",
       "<style scoped>\n",
       "    .dataframe tbody tr th:only-of-type {\n",
       "        vertical-align: middle;\n",
       "    }\n",
       "\n",
       "    .dataframe tbody tr th {\n",
       "        vertical-align: top;\n",
       "    }\n",
       "\n",
       "    .dataframe thead th {\n",
       "        text-align: right;\n",
       "    }\n",
       "</style>\n",
       "<table border=\"1\" class=\"dataframe\">\n",
       "  <thead>\n",
       "    <tr style=\"text-align: right;\">\n",
       "      <th></th>\n",
       "      <th>Equipo</th>\n",
       "      <th>Nombre Completo</th>\n",
       "      <th>Abrebiatura</th>\n",
       "      <th>Estadio</th>\n",
       "      <th>Latitud</th>\n",
       "      <th>Latitud_N</th>\n",
       "      <th>Longitud</th>\n",
       "      <th>Longitud_N</th>\n",
       "      <th>Altitud</th>\n",
       "      <th>Distancia</th>\n",
       "      <th>Altitud_std</th>\n",
       "      <th>Distancia_std</th>\n",
       "      <th>Cluster</th>\n",
       "    </tr>\n",
       "  </thead>\n",
       "  <tbody>\n",
       "    <tr>\n",
       "      <th>0</th>\n",
       "      <td>Alavés</td>\n",
       "      <td>Deportivo Alavés S.A.D.</td>\n",
       "      <td>ALV</td>\n",
       "      <td>Mendizorroza</td>\n",
       "      <td>42°50′14″N</td>\n",
       "      <td>42.837222</td>\n",
       "      <td>2°41′17″O</td>\n",
       "      <td>-2.688056</td>\n",
       "      <td>517</td>\n",
       "      <td>656</td>\n",
       "      <td>0.897398</td>\n",
       "      <td>-0.430207</td>\n",
       "      <td>0</td>\n",
       "    </tr>\n",
       "    <tr>\n",
       "      <th>1</th>\n",
       "      <td>Athletic</td>\n",
       "      <td>Athletic Club</td>\n",
       "      <td>ATH</td>\n",
       "      <td>San Mamés</td>\n",
       "      <td>43°15′51″N</td>\n",
       "      <td>43.264167</td>\n",
       "      <td>2°56′58″O</td>\n",
       "      <td>-2.949444</td>\n",
       "      <td>54</td>\n",
       "      <td>610</td>\n",
       "      <td>-0.851320</td>\n",
       "      <td>-0.615589</td>\n",
       "      <td>2</td>\n",
       "    </tr>\n",
       "    <tr>\n",
       "      <th>2</th>\n",
       "      <td>Atlético</td>\n",
       "      <td>Club Atlético de Madrid</td>\n",
       "      <td>ATM</td>\n",
       "      <td>Wanda Metropolitano</td>\n",
       "      <td>40°26′10″N</td>\n",
       "      <td>40.436111</td>\n",
       "      <td>3°35′58″O</td>\n",
       "      <td>-3.599444</td>\n",
       "      <td>664</td>\n",
       "      <td>677</td>\n",
       "      <td>1.452606</td>\n",
       "      <td>-0.345576</td>\n",
       "      <td>0</td>\n",
       "    </tr>\n",
       "    <tr>\n",
       "      <th>3</th>\n",
       "      <td>Barcelona</td>\n",
       "      <td>Fútbol Club Barcelona</td>\n",
       "      <td>FCB</td>\n",
       "      <td>Camp Nou</td>\n",
       "      <td>41°22′51″N</td>\n",
       "      <td>41.380833</td>\n",
       "      <td>2°07′21″E</td>\n",
       "      <td>2.122500</td>\n",
       "      <td>190</td>\n",
       "      <td>1141</td>\n",
       "      <td>-0.337657</td>\n",
       "      <td>1.524363</td>\n",
       "      <td>1</td>\n",
       "    </tr>\n",
       "    <tr>\n",
       "      <th>4</th>\n",
       "      <td>Betis</td>\n",
       "      <td>Real Betis Balompié</td>\n",
       "      <td>BET</td>\n",
       "      <td>Benito Villamarín</td>\n",
       "      <td>37°21′23″N</td>\n",
       "      <td>37.356389</td>\n",
       "      <td>5°58′54″O</td>\n",
       "      <td>-5.981667</td>\n",
       "      <td>11</td>\n",
       "      <td>726</td>\n",
       "      <td>-1.013727</td>\n",
       "      <td>-0.148104</td>\n",
       "      <td>2</td>\n",
       "    </tr>\n",
       "  </tbody>\n",
       "</table>\n",
       "</div>"
      ],
      "text/plain": [
       "      Equipo          Nombre Completo Abrebiatura              Estadio  \\\n",
       "0     Alavés  Deportivo Alavés S.A.D.         ALV         Mendizorroza   \n",
       "1   Athletic            Athletic Club         ATH            San Mamés   \n",
       "2   Atlético  Club Atlético de Madrid         ATM  Wanda Metropolitano   \n",
       "3  Barcelona    Fútbol Club Barcelona         FCB             Camp Nou   \n",
       "4      Betis      Real Betis Balompié         BET    Benito Villamarín   \n",
       "\n",
       "      Latitud  Latitud_N   Longitud  Longitud_N  Altitud  Distancia  \\\n",
       "0  42°50′14″N  42.837222  2°41′17″O   -2.688056      517        656   \n",
       "1  43°15′51″N  43.264167  2°56′58″O   -2.949444       54        610   \n",
       "2  40°26′10″N  40.436111  3°35′58″O   -3.599444      664        677   \n",
       "3  41°22′51″N  41.380833  2°07′21″E    2.122500      190       1141   \n",
       "4  37°21′23″N  37.356389  5°58′54″O   -5.981667       11        726   \n",
       "\n",
       "   Altitud_std  Distancia_std  Cluster  \n",
       "0     0.897398      -0.430207        0  \n",
       "1    -0.851320      -0.615589        2  \n",
       "2     1.452606      -0.345576        0  \n",
       "3    -0.337657       1.524363        1  \n",
       "4    -1.013727      -0.148104        2  "
      ]
     },
     "execution_count": 59,
     "metadata": {},
     "output_type": "execute_result"
    }
   ],
   "source": [
    "Equipos['Cluster'] = Exec_KMeans(selectedK, X3)\n",
    "Equipos.head()"
   ]
  },
  {
   "cell_type": "code",
   "execution_count": 60,
   "metadata": {},
   "outputs": [
    {
     "name": "stdout",
     "output_type": "stream",
     "text": [
      "Cluster 0\n",
      "La media de Altitud es 551.56\n",
      "La media de Distancia es  716.44\n",
      "-----------\n",
      "Cluster 1\n",
      "La media de Altitud es 66.4\n",
      "La media de Distancia es  1029.2\n",
      "-----------\n",
      "Cluster 2\n",
      "La media de Altitud es  54.0\n",
      "La media de Distancia es  732.2\n",
      "Cluster 3\n",
      "La media de Altitud es  22.0\n",
      "La media de Distancia es  0.0\n"
     ]
    }
   ],
   "source": [
    "print(\"Cluster 0\")\n",
    "print(\"La media de Altitud es\", round(Equipos[Equipos['Cluster']==0]['Altitud'].mean(), 2))\n",
    "print(\"La media de Distancia es \", round(Equipos[Equipos['Cluster']==0]['Distancia'].mean(), 2))\n",
    "print(\"-----------\")\n",
    "print(\"Cluster 1\")\n",
    "print(\"La media de Altitud es\", round(Equipos[Equipos['Cluster']==1]['Altitud'].mean(), 2))\n",
    "print(\"La media de Distancia es \", round(Equipos[Equipos['Cluster']==1]['Distancia'].mean(), 2))\n",
    "print(\"-----------\")\n",
    "print(\"Cluster 2\")\n",
    "print(\"La media de Altitud es \", round(Equipos[Equipos['Cluster']==2]['Altitud'].mean(), 2))\n",
    "print(\"La media de Distancia es \", round(Equipos[Equipos['Cluster']==2]['Distancia'].mean(), 2))\n",
    "(\"-----------\")\n",
    "print(\"Cluster 3\")\n",
    "print(\"La media de Altitud es \", round(Equipos[Equipos['Cluster']==3]['Altitud'].mean(), 2))\n",
    "print(\"La media de Distancia es \", round(Equipos[Equipos['Cluster']==3]['Distancia'].mean(), 2))"
   ]
  },
  {
   "cell_type": "code",
   "execution_count": 81,
   "metadata": {},
   "outputs": [],
   "source": [
    "#Cargamos un fichero Excel que contiene los resultados del Celta de Viga cada una de las jornadas de La Liga\n",
    "Jornadas = pd.read_excel('Data/jornadas.xlsx')"
   ]
  },
  {
   "cell_type": "code",
   "execution_count": 82,
   "metadata": {},
   "outputs": [],
   "source": [
    "#Unimos los dos documentos mediante el campo Equipo:\n",
    "Jornadas_2 = pd.merge(Jornadas, Equipos, left_on='Rival', right_on='Equipo')"
   ]
  },
  {
   "cell_type": "code",
   "execution_count": 83,
   "metadata": {},
   "outputs": [
    {
     "data": {
      "text/plain": [
       "(38, 19)"
      ]
     },
     "execution_count": 83,
     "metadata": {},
     "output_type": "execute_result"
    }
   ],
   "source": [
    "Jornadas.shape"
   ]
  },
  {
   "cell_type": "code",
   "execution_count": 84,
   "metadata": {},
   "outputs": [
    {
     "data": {
      "text/plain": [
       "(38, 32)"
      ]
     },
     "execution_count": 84,
     "metadata": {},
     "output_type": "execute_result"
    }
   ],
   "source": [
    "Jornadas_2.shape"
   ]
  },
  {
   "cell_type": "code",
   "execution_count": 85,
   "metadata": {},
   "outputs": [
    {
     "data": {
      "text/html": [
       "<div>\n",
       "<style scoped>\n",
       "    .dataframe tbody tr th:only-of-type {\n",
       "        vertical-align: middle;\n",
       "    }\n",
       "\n",
       "    .dataframe tbody tr th {\n",
       "        vertical-align: top;\n",
       "    }\n",
       "\n",
       "    .dataframe thead th {\n",
       "        text-align: right;\n",
       "    }\n",
       "</style>\n",
       "<table border=\"1\" class=\"dataframe\">\n",
       "  <thead>\n",
       "    <tr style=\"text-align: right;\">\n",
       "      <th></th>\n",
       "      <th>Jornada</th>\n",
       "      <th>Hora</th>\n",
       "      <th>Día</th>\n",
       "      <th>Fecha</th>\n",
       "      <th>Rival</th>\n",
       "      <th>Resultado</th>\n",
       "      <th>Lugar</th>\n",
       "      <th>Marcador</th>\n",
       "      <th>Equipo_x</th>\n",
       "      <th>Nombre Completo_x</th>\n",
       "      <th>...</th>\n",
       "      <th>Estadio_y</th>\n",
       "      <th>Latitud_y</th>\n",
       "      <th>Latitud_N</th>\n",
       "      <th>Longitud_y</th>\n",
       "      <th>Longitud_N</th>\n",
       "      <th>Altitud_y</th>\n",
       "      <th>Distancia_y</th>\n",
       "      <th>Altitud_std_y</th>\n",
       "      <th>Distancia_std_y</th>\n",
       "      <th>Cluster</th>\n",
       "    </tr>\n",
       "  </thead>\n",
       "  <tbody>\n",
       "    <tr>\n",
       "      <th>0</th>\n",
       "      <td>J1</td>\n",
       "      <td>16:00:00</td>\n",
       "      <td>S</td>\n",
       "      <td>2020-09-12</td>\n",
       "      <td>Eibar</td>\n",
       "      <td>Empate</td>\n",
       "      <td>Fuera</td>\n",
       "      <td>0:0</td>\n",
       "      <td>Eibar</td>\n",
       "      <td>Sociedad Deportiva Eibar S.A.D.</td>\n",
       "      <td>...</td>\n",
       "      <td>Ipurúa</td>\n",
       "      <td>43°10′54″N</td>\n",
       "      <td>43.181667</td>\n",
       "      <td>2°28′33″O</td>\n",
       "      <td>-2.475833</td>\n",
       "      <td>339</td>\n",
       "      <td>713</td>\n",
       "      <td>0.225105</td>\n",
       "      <td>-0.200495</td>\n",
       "      <td>0</td>\n",
       "    </tr>\n",
       "    <tr>\n",
       "      <th>1</th>\n",
       "      <td>J2</td>\n",
       "      <td>18:30:00</td>\n",
       "      <td>D</td>\n",
       "      <td>2021-01-24</td>\n",
       "      <td>Eibar</td>\n",
       "      <td>Empate</td>\n",
       "      <td>Casa</td>\n",
       "      <td>1:1</td>\n",
       "      <td>Eibar</td>\n",
       "      <td>Sociedad Deportiva Eibar S.A.D.</td>\n",
       "      <td>...</td>\n",
       "      <td>Ipurúa</td>\n",
       "      <td>43°10′54″N</td>\n",
       "      <td>43.181667</td>\n",
       "      <td>2°28′33″O</td>\n",
       "      <td>-2.475833</td>\n",
       "      <td>339</td>\n",
       "      <td>713</td>\n",
       "      <td>0.225105</td>\n",
       "      <td>-0.200495</td>\n",
       "      <td>0</td>\n",
       "    </tr>\n",
       "  </tbody>\n",
       "</table>\n",
       "<p>2 rows × 32 columns</p>\n",
       "</div>"
      ],
      "text/plain": [
       "  Jornada      Hora Día      Fecha  Rival Resultado  Lugar Marcador Equipo_x  \\\n",
       "0      J1  16:00:00   S 2020-09-12  Eibar    Empate  Fuera      0:0    Eibar   \n",
       "1      J2  18:30:00   D 2021-01-24  Eibar    Empate   Casa      1:1    Eibar   \n",
       "\n",
       "                 Nombre Completo_x  ... Estadio_y   Latitud_y  Latitud_N  \\\n",
       "0  Sociedad Deportiva Eibar S.A.D.  ...    Ipurúa  43°10′54″N  43.181667   \n",
       "1  Sociedad Deportiva Eibar S.A.D.  ...    Ipurúa  43°10′54″N  43.181667   \n",
       "\n",
       "  Longitud_y  Longitud_N  Altitud_y Distancia_y  Altitud_std_y  \\\n",
       "0  2°28′33″O   -2.475833        339         713       0.225105   \n",
       "1  2°28′33″O   -2.475833        339         713       0.225105   \n",
       "\n",
       "   Distancia_std_y Cluster  \n",
       "0        -0.200495       0  \n",
       "1        -0.200495       0  \n",
       "\n",
       "[2 rows x 32 columns]"
      ]
     },
     "execution_count": 85,
     "metadata": {},
     "output_type": "execute_result"
    }
   ],
   "source": [
    "Jornadas_2.head(2)"
   ]
  },
  {
   "cell_type": "code",
   "execution_count": 39,
   "metadata": {},
   "outputs": [],
   "source": [
    "#Vemos que la unión ha sido correcta, se mantiene el número de registros, pero aumentan los atributos\n",
    "\n",
    "#Ahora tenemos los resultados de cada jornada junto con información del equipo rival, incluido su cluster asignado"
   ]
  },
  {
   "cell_type": "markdown",
   "metadata": {},
   "source": [
    "### Procedemos a la carga de los datos proporcionados por Opta\n",
    "(Previamente tratados en R)"
   ]
  },
  {
   "cell_type": "code",
   "execution_count": 86,
   "metadata": {},
   "outputs": [
    {
     "data": {
      "text/plain": [
       "'/Users/alejandrocasares/Desktop/02_Master/M12_PFM/PFM2'"
      ]
     },
     "execution_count": 86,
     "metadata": {},
     "output_type": "execute_result"
    }
   ],
   "source": [
    "#Nos aseguramos estar en la carpeta adecuada:\n",
    "os.getcwd()"
   ]
  },
  {
   "cell_type": "code",
   "execution_count": 87,
   "metadata": {},
   "outputs": [],
   "source": [
    "datos = pd.DataFrame([],[])\n",
    "for i in np.arange(1,39):    \n",
    "    temporal = pd.read_csv(('Data/J'+str(i)+'.csv'),sep=';')\n",
    "    temporal['Jornada'] = 'J'+str(i)\n",
    "    datos = pd.concat([datos,temporal])"
   ]
  },
  {
   "cell_type": "code",
   "execution_count": 88,
   "metadata": {},
   "outputs": [
    {
     "data": {
      "text/html": [
       "<div>\n",
       "<style scoped>\n",
       "    .dataframe tbody tr th:only-of-type {\n",
       "        vertical-align: middle;\n",
       "    }\n",
       "\n",
       "    .dataframe tbody tr th {\n",
       "        vertical-align: top;\n",
       "    }\n",
       "\n",
       "    .dataframe thead th {\n",
       "        text-align: right;\n",
       "    }\n",
       "</style>\n",
       "<table border=\"1\" class=\"dataframe\">\n",
       "  <thead>\n",
       "    <tr style=\"text-align: right;\">\n",
       "      <th></th>\n",
       "      <th>player_id</th>\n",
       "      <th>id</th>\n",
       "      <th>event_id</th>\n",
       "      <th>type_id</th>\n",
       "      <th>period_id</th>\n",
       "      <th>min</th>\n",
       "      <th>sec</th>\n",
       "      <th>team_id</th>\n",
       "      <th>outcome</th>\n",
       "      <th>x</th>\n",
       "      <th>...</th>\n",
       "      <th>289</th>\n",
       "      <th>67</th>\n",
       "      <th>381</th>\n",
       "      <th>436</th>\n",
       "      <th>187</th>\n",
       "      <th>313</th>\n",
       "      <th>300</th>\n",
       "      <th>330</th>\n",
       "      <th>329</th>\n",
       "      <th>245</th>\n",
       "    </tr>\n",
       "  </thead>\n",
       "  <tbody>\n",
       "    <tr>\n",
       "      <th>0</th>\n",
       "      <td>100868.0</td>\n",
       "      <td>2210429275</td>\n",
       "      <td>593</td>\n",
       "      <td>1</td>\n",
       "      <td>2</td>\n",
       "      <td>66</td>\n",
       "      <td>8</td>\n",
       "      <td>176</td>\n",
       "      <td>0</td>\n",
       "      <td>25.9</td>\n",
       "      <td>...</td>\n",
       "      <td>NaN</td>\n",
       "      <td>NaN</td>\n",
       "      <td>NaN</td>\n",
       "      <td>NaN</td>\n",
       "      <td>NaN</td>\n",
       "      <td>NaN</td>\n",
       "      <td>NaN</td>\n",
       "      <td>NaN</td>\n",
       "      <td>NaN</td>\n",
       "      <td>NaN</td>\n",
       "    </tr>\n",
       "    <tr>\n",
       "      <th>1</th>\n",
       "      <td>100868.0</td>\n",
       "      <td>2210344463</td>\n",
       "      <td>234</td>\n",
       "      <td>12</td>\n",
       "      <td>1</td>\n",
       "      <td>26</td>\n",
       "      <td>31</td>\n",
       "      <td>176</td>\n",
       "      <td>1</td>\n",
       "      <td>23.6</td>\n",
       "      <td>...</td>\n",
       "      <td>NaN</td>\n",
       "      <td>NaN</td>\n",
       "      <td>NaN</td>\n",
       "      <td>NaN</td>\n",
       "      <td>NaN</td>\n",
       "      <td>NaN</td>\n",
       "      <td>NaN</td>\n",
       "      <td>NaN</td>\n",
       "      <td>NaN</td>\n",
       "      <td>NaN</td>\n",
       "    </tr>\n",
       "    <tr>\n",
       "      <th>2</th>\n",
       "      <td>100868.0</td>\n",
       "      <td>2210469203</td>\n",
       "      <td>792</td>\n",
       "      <td>1</td>\n",
       "      <td>2</td>\n",
       "      <td>91</td>\n",
       "      <td>46</td>\n",
       "      <td>176</td>\n",
       "      <td>1</td>\n",
       "      <td>12.3</td>\n",
       "      <td>...</td>\n",
       "      <td>NaN</td>\n",
       "      <td>NaN</td>\n",
       "      <td>NaN</td>\n",
       "      <td>NaN</td>\n",
       "      <td>NaN</td>\n",
       "      <td>NaN</td>\n",
       "      <td>NaN</td>\n",
       "      <td>NaN</td>\n",
       "      <td>NaN</td>\n",
       "      <td>NaN</td>\n",
       "    </tr>\n",
       "    <tr>\n",
       "      <th>3</th>\n",
       "      <td>100868.0</td>\n",
       "      <td>2210399159</td>\n",
       "      <td>461</td>\n",
       "      <td>49</td>\n",
       "      <td>2</td>\n",
       "      <td>50</td>\n",
       "      <td>25</td>\n",
       "      <td>176</td>\n",
       "      <td>1</td>\n",
       "      <td>25.0</td>\n",
       "      <td>...</td>\n",
       "      <td>NaN</td>\n",
       "      <td>NaN</td>\n",
       "      <td>NaN</td>\n",
       "      <td>NaN</td>\n",
       "      <td>NaN</td>\n",
       "      <td>NaN</td>\n",
       "      <td>NaN</td>\n",
       "      <td>NaN</td>\n",
       "      <td>NaN</td>\n",
       "      <td>NaN</td>\n",
       "    </tr>\n",
       "    <tr>\n",
       "      <th>4</th>\n",
       "      <td>100868.0</td>\n",
       "      <td>2210336175</td>\n",
       "      <td>179</td>\n",
       "      <td>1</td>\n",
       "      <td>1</td>\n",
       "      <td>21</td>\n",
       "      <td>18</td>\n",
       "      <td>176</td>\n",
       "      <td>1</td>\n",
       "      <td>24.9</td>\n",
       "      <td>...</td>\n",
       "      <td>NaN</td>\n",
       "      <td>NaN</td>\n",
       "      <td>NaN</td>\n",
       "      <td>NaN</td>\n",
       "      <td>NaN</td>\n",
       "      <td>NaN</td>\n",
       "      <td>NaN</td>\n",
       "      <td>NaN</td>\n",
       "      <td>NaN</td>\n",
       "      <td>NaN</td>\n",
       "    </tr>\n",
       "  </tbody>\n",
       "</table>\n",
       "<p>5 rows × 269 columns</p>\n",
       "</div>"
      ],
      "text/plain": [
       "   player_id          id  event_id  type_id  period_id  min  sec  team_id  \\\n",
       "0   100868.0  2210429275       593        1          2   66    8      176   \n",
       "1   100868.0  2210344463       234       12          1   26   31      176   \n",
       "2   100868.0  2210469203       792        1          2   91   46      176   \n",
       "3   100868.0  2210399159       461       49          2   50   25      176   \n",
       "4   100868.0  2210336175       179        1          1   21   18      176   \n",
       "\n",
       "   outcome     x  ...  289  67 381  436  187 313  300 330 329 245  \n",
       "0        0  25.9  ...  NaN NaN NaN  NaN  NaN NaN  NaN NaN NaN NaN  \n",
       "1        1  23.6  ...  NaN NaN NaN  NaN  NaN NaN  NaN NaN NaN NaN  \n",
       "2        1  12.3  ...  NaN NaN NaN  NaN  NaN NaN  NaN NaN NaN NaN  \n",
       "3        1  25.0  ...  NaN NaN NaN  NaN  NaN NaN  NaN NaN NaN NaN  \n",
       "4        1  24.9  ...  NaN NaN NaN  NaN  NaN NaN  NaN NaN NaN NaN  \n",
       "\n",
       "[5 rows x 269 columns]"
      ]
     },
     "execution_count": 88,
     "metadata": {},
     "output_type": "execute_result"
    }
   ],
   "source": [
    "datos.head()"
   ]
  },
  {
   "cell_type": "code",
   "execution_count": 89,
   "metadata": {},
   "outputs": [
    {
     "data": {
      "text/plain": [
       "(71344, 269)"
      ]
     },
     "execution_count": 89,
     "metadata": {},
     "output_type": "execute_result"
    }
   ],
   "source": [
    "datos.shape"
   ]
  },
  {
   "cell_type": "code",
   "execution_count": 90,
   "metadata": {},
   "outputs": [],
   "source": [
    "#Cargamos un fichero que contiene la descripción de los distintos tipos de eventos de Opta.\n",
    "#De esta forma trabajaremos sobre descriptivos en texto en lugar de códigos de eventos para facilitar el seguimiento\n",
    "# y comprensión del trabajo:\n",
    "descriptivos_f24 = pd.read_excel('Data/f24_type_id.xlsx',sheet_name=\"Hoja1\")"
   ]
  },
  {
   "cell_type": "code",
   "execution_count": 91,
   "metadata": {},
   "outputs": [
    {
     "data": {
      "text/html": [
       "<div>\n",
       "<style scoped>\n",
       "    .dataframe tbody tr th:only-of-type {\n",
       "        vertical-align: middle;\n",
       "    }\n",
       "\n",
       "    .dataframe tbody tr th {\n",
       "        vertical-align: top;\n",
       "    }\n",
       "\n",
       "    .dataframe thead th {\n",
       "        text-align: right;\n",
       "    }\n",
       "</style>\n",
       "<table border=\"1\" class=\"dataframe\">\n",
       "  <thead>\n",
       "    <tr style=\"text-align: right;\">\n",
       "      <th></th>\n",
       "      <th>type_id</th>\n",
       "      <th>Description</th>\n",
       "      <th>Descripción</th>\n",
       "    </tr>\n",
       "  </thead>\n",
       "  <tbody>\n",
       "    <tr>\n",
       "      <th>0</th>\n",
       "      <td>1</td>\n",
       "      <td>Pass</td>\n",
       "      <td>Pase</td>\n",
       "    </tr>\n",
       "    <tr>\n",
       "      <th>1</th>\n",
       "      <td>2</td>\n",
       "      <td>Offside Pass</td>\n",
       "      <td>Pase en fuera de juego</td>\n",
       "    </tr>\n",
       "    <tr>\n",
       "      <th>2</th>\n",
       "      <td>3</td>\n",
       "      <td>Take On</td>\n",
       "      <td>Regate</td>\n",
       "    </tr>\n",
       "    <tr>\n",
       "      <th>3</th>\n",
       "      <td>4</td>\n",
       "      <td>Foul</td>\n",
       "      <td>Falta</td>\n",
       "    </tr>\n",
       "    <tr>\n",
       "      <th>4</th>\n",
       "      <td>5</td>\n",
       "      <td>Out</td>\n",
       "      <td>Fuera</td>\n",
       "    </tr>\n",
       "  </tbody>\n",
       "</table>\n",
       "</div>"
      ],
      "text/plain": [
       "   type_id    Description              Descripción\n",
       "0        1          Pass                     Pase \n",
       "1        2  Offside Pass   Pase en fuera de juego \n",
       "2        3       Take On                    Regate\n",
       "3        4          Foul                    Falta \n",
       "4        5           Out                    Fuera "
      ]
     },
     "execution_count": 91,
     "metadata": {},
     "output_type": "execute_result"
    }
   ],
   "source": [
    "descriptivos_f24.head(5)"
   ]
  },
  {
   "cell_type": "code",
   "execution_count": 92,
   "metadata": {},
   "outputs": [],
   "source": [
    "#Unimos nuestro DF de datos con los descriptivos:\n",
    "datos = pd.merge(datos, descriptivos_f24, how='left', on='type_id')"
   ]
  },
  {
   "cell_type": "code",
   "execution_count": 93,
   "metadata": {},
   "outputs": [
    {
     "data": {
      "text/plain": [
       "(71344, 271)"
      ]
     },
     "execution_count": 93,
     "metadata": {},
     "output_type": "execute_result"
    }
   ],
   "source": [
    "datos.shape"
   ]
  },
  {
   "cell_type": "code",
   "execution_count": 94,
   "metadata": {},
   "outputs": [
    {
     "data": {
      "text/html": [
       "<div>\n",
       "<style scoped>\n",
       "    .dataframe tbody tr th:only-of-type {\n",
       "        vertical-align: middle;\n",
       "    }\n",
       "\n",
       "    .dataframe tbody tr th {\n",
       "        vertical-align: top;\n",
       "    }\n",
       "\n",
       "    .dataframe thead th {\n",
       "        text-align: right;\n",
       "    }\n",
       "</style>\n",
       "<table border=\"1\" class=\"dataframe\">\n",
       "  <thead>\n",
       "    <tr style=\"text-align: right;\">\n",
       "      <th></th>\n",
       "      <th>player_id</th>\n",
       "      <th>id</th>\n",
       "      <th>event_id</th>\n",
       "      <th>type_id</th>\n",
       "      <th>period_id</th>\n",
       "      <th>min</th>\n",
       "      <th>sec</th>\n",
       "      <th>team_id</th>\n",
       "      <th>outcome</th>\n",
       "      <th>x</th>\n",
       "      <th>...</th>\n",
       "      <th>381</th>\n",
       "      <th>436</th>\n",
       "      <th>187</th>\n",
       "      <th>313</th>\n",
       "      <th>300</th>\n",
       "      <th>330</th>\n",
       "      <th>329</th>\n",
       "      <th>245</th>\n",
       "      <th>Description</th>\n",
       "      <th>Descripción</th>\n",
       "    </tr>\n",
       "  </thead>\n",
       "  <tbody>\n",
       "    <tr>\n",
       "      <th>0</th>\n",
       "      <td>100868.0</td>\n",
       "      <td>2210429275</td>\n",
       "      <td>593</td>\n",
       "      <td>1</td>\n",
       "      <td>2</td>\n",
       "      <td>66</td>\n",
       "      <td>8</td>\n",
       "      <td>176</td>\n",
       "      <td>0</td>\n",
       "      <td>25.9</td>\n",
       "      <td>...</td>\n",
       "      <td>NaN</td>\n",
       "      <td>NaN</td>\n",
       "      <td>NaN</td>\n",
       "      <td>NaN</td>\n",
       "      <td>NaN</td>\n",
       "      <td>NaN</td>\n",
       "      <td>NaN</td>\n",
       "      <td>NaN</td>\n",
       "      <td>Pass</td>\n",
       "      <td>Pase</td>\n",
       "    </tr>\n",
       "    <tr>\n",
       "      <th>1</th>\n",
       "      <td>100868.0</td>\n",
       "      <td>2210344463</td>\n",
       "      <td>234</td>\n",
       "      <td>12</td>\n",
       "      <td>1</td>\n",
       "      <td>26</td>\n",
       "      <td>31</td>\n",
       "      <td>176</td>\n",
       "      <td>1</td>\n",
       "      <td>23.6</td>\n",
       "      <td>...</td>\n",
       "      <td>NaN</td>\n",
       "      <td>NaN</td>\n",
       "      <td>NaN</td>\n",
       "      <td>NaN</td>\n",
       "      <td>NaN</td>\n",
       "      <td>NaN</td>\n",
       "      <td>NaN</td>\n",
       "      <td>NaN</td>\n",
       "      <td>Clearance</td>\n",
       "      <td>Despeje</td>\n",
       "    </tr>\n",
       "    <tr>\n",
       "      <th>2</th>\n",
       "      <td>100868.0</td>\n",
       "      <td>2210469203</td>\n",
       "      <td>792</td>\n",
       "      <td>1</td>\n",
       "      <td>2</td>\n",
       "      <td>91</td>\n",
       "      <td>46</td>\n",
       "      <td>176</td>\n",
       "      <td>1</td>\n",
       "      <td>12.3</td>\n",
       "      <td>...</td>\n",
       "      <td>NaN</td>\n",
       "      <td>NaN</td>\n",
       "      <td>NaN</td>\n",
       "      <td>NaN</td>\n",
       "      <td>NaN</td>\n",
       "      <td>NaN</td>\n",
       "      <td>NaN</td>\n",
       "      <td>NaN</td>\n",
       "      <td>Pass</td>\n",
       "      <td>Pase</td>\n",
       "    </tr>\n",
       "  </tbody>\n",
       "</table>\n",
       "<p>3 rows × 271 columns</p>\n",
       "</div>"
      ],
      "text/plain": [
       "   player_id          id  event_id  type_id  period_id  min  sec  team_id  \\\n",
       "0   100868.0  2210429275       593        1          2   66    8      176   \n",
       "1   100868.0  2210344463       234       12          1   26   31      176   \n",
       "2   100868.0  2210469203       792        1          2   91   46      176   \n",
       "\n",
       "   outcome     x  ...  381 436 187  313  300 330  329 245 Description  \\\n",
       "0        0  25.9  ...  NaN NaN NaN  NaN  NaN NaN  NaN NaN       Pass    \n",
       "1        1  23.6  ...  NaN NaN NaN  NaN  NaN NaN  NaN NaN  Clearance    \n",
       "2        1  12.3  ...  NaN NaN NaN  NaN  NaN NaN  NaN NaN       Pass    \n",
       "\n",
       "  Descripción  \n",
       "0       Pase   \n",
       "1    Despeje   \n",
       "2       Pase   \n",
       "\n",
       "[3 rows x 271 columns]"
      ]
     },
     "execution_count": 94,
     "metadata": {},
     "output_type": "execute_result"
    }
   ],
   "source": [
    "datos.head(3)"
   ]
  },
  {
   "cell_type": "code",
   "execution_count": 95,
   "metadata": {},
   "outputs": [],
   "source": [
    "datos_all = pd.merge(datos, Jornadas_2, how='left', on='Jornada')"
   ]
  },
  {
   "cell_type": "code",
   "execution_count": 96,
   "metadata": {},
   "outputs": [
    {
     "data": {
      "text/plain": [
       "(71344, 302)"
      ]
     },
     "execution_count": 96,
     "metadata": {},
     "output_type": "execute_result"
    }
   ],
   "source": [
    "#Comprobamos la estructura del dataframe para asegurarnos de que la unión ha sido correcta:\n",
    "datos_all.shape"
   ]
  },
  {
   "cell_type": "code",
   "execution_count": 97,
   "metadata": {},
   "outputs": [
    {
     "data": {
      "text/html": [
       "<div>\n",
       "<style scoped>\n",
       "    .dataframe tbody tr th:only-of-type {\n",
       "        vertical-align: middle;\n",
       "    }\n",
       "\n",
       "    .dataframe tbody tr th {\n",
       "        vertical-align: top;\n",
       "    }\n",
       "\n",
       "    .dataframe thead th {\n",
       "        text-align: right;\n",
       "    }\n",
       "</style>\n",
       "<table border=\"1\" class=\"dataframe\">\n",
       "  <thead>\n",
       "    <tr style=\"text-align: right;\">\n",
       "      <th></th>\n",
       "      <th>player_id</th>\n",
       "      <th>id</th>\n",
       "      <th>event_id</th>\n",
       "      <th>type_id</th>\n",
       "      <th>period_id</th>\n",
       "      <th>min</th>\n",
       "      <th>sec</th>\n",
       "      <th>team_id</th>\n",
       "      <th>outcome</th>\n",
       "      <th>x</th>\n",
       "      <th>...</th>\n",
       "      <th>Estadio_y</th>\n",
       "      <th>Latitud_y</th>\n",
       "      <th>Latitud_N</th>\n",
       "      <th>Longitud_y</th>\n",
       "      <th>Longitud_N</th>\n",
       "      <th>Altitud_y</th>\n",
       "      <th>Distancia_y</th>\n",
       "      <th>Altitud_std_y</th>\n",
       "      <th>Distancia_std_y</th>\n",
       "      <th>Cluster</th>\n",
       "    </tr>\n",
       "  </thead>\n",
       "  <tbody>\n",
       "    <tr>\n",
       "      <th>0</th>\n",
       "      <td>100868.0</td>\n",
       "      <td>2210429275</td>\n",
       "      <td>593</td>\n",
       "      <td>1</td>\n",
       "      <td>2</td>\n",
       "      <td>66</td>\n",
       "      <td>8</td>\n",
       "      <td>176</td>\n",
       "      <td>0</td>\n",
       "      <td>25.9</td>\n",
       "      <td>...</td>\n",
       "      <td>Ipurúa</td>\n",
       "      <td>43°10′54″N</td>\n",
       "      <td>43.181667</td>\n",
       "      <td>2°28′33″O</td>\n",
       "      <td>-2.475833</td>\n",
       "      <td>339</td>\n",
       "      <td>713</td>\n",
       "      <td>0.225105</td>\n",
       "      <td>-0.200495</td>\n",
       "      <td>0</td>\n",
       "    </tr>\n",
       "    <tr>\n",
       "      <th>1</th>\n",
       "      <td>100868.0</td>\n",
       "      <td>2210344463</td>\n",
       "      <td>234</td>\n",
       "      <td>12</td>\n",
       "      <td>1</td>\n",
       "      <td>26</td>\n",
       "      <td>31</td>\n",
       "      <td>176</td>\n",
       "      <td>1</td>\n",
       "      <td>23.6</td>\n",
       "      <td>...</td>\n",
       "      <td>Ipurúa</td>\n",
       "      <td>43°10′54″N</td>\n",
       "      <td>43.181667</td>\n",
       "      <td>2°28′33″O</td>\n",
       "      <td>-2.475833</td>\n",
       "      <td>339</td>\n",
       "      <td>713</td>\n",
       "      <td>0.225105</td>\n",
       "      <td>-0.200495</td>\n",
       "      <td>0</td>\n",
       "    </tr>\n",
       "    <tr>\n",
       "      <th>2</th>\n",
       "      <td>100868.0</td>\n",
       "      <td>2210469203</td>\n",
       "      <td>792</td>\n",
       "      <td>1</td>\n",
       "      <td>2</td>\n",
       "      <td>91</td>\n",
       "      <td>46</td>\n",
       "      <td>176</td>\n",
       "      <td>1</td>\n",
       "      <td>12.3</td>\n",
       "      <td>...</td>\n",
       "      <td>Ipurúa</td>\n",
       "      <td>43°10′54″N</td>\n",
       "      <td>43.181667</td>\n",
       "      <td>2°28′33″O</td>\n",
       "      <td>-2.475833</td>\n",
       "      <td>339</td>\n",
       "      <td>713</td>\n",
       "      <td>0.225105</td>\n",
       "      <td>-0.200495</td>\n",
       "      <td>0</td>\n",
       "    </tr>\n",
       "  </tbody>\n",
       "</table>\n",
       "<p>3 rows × 302 columns</p>\n",
       "</div>"
      ],
      "text/plain": [
       "   player_id          id  event_id  type_id  period_id  min  sec  team_id  \\\n",
       "0   100868.0  2210429275       593        1          2   66    8      176   \n",
       "1   100868.0  2210344463       234       12          1   26   31      176   \n",
       "2   100868.0  2210469203       792        1          2   91   46      176   \n",
       "\n",
       "   outcome     x  ...  Estadio_y   Latitud_y  Latitud_N  Longitud_y  \\\n",
       "0        0  25.9  ...     Ipurúa  43°10′54″N  43.181667   2°28′33″O   \n",
       "1        1  23.6  ...     Ipurúa  43°10′54″N  43.181667   2°28′33″O   \n",
       "2        1  12.3  ...     Ipurúa  43°10′54″N  43.181667   2°28′33″O   \n",
       "\n",
       "   Longitud_N Altitud_y  Distancia_y Altitud_std_y Distancia_std_y Cluster  \n",
       "0   -2.475833       339          713      0.225105       -0.200495       0  \n",
       "1   -2.475833       339          713      0.225105       -0.200495       0  \n",
       "2   -2.475833       339          713      0.225105       -0.200495       0  \n",
       "\n",
       "[3 rows x 302 columns]"
      ]
     },
     "execution_count": 97,
     "metadata": {},
     "output_type": "execute_result"
    }
   ],
   "source": [
    "datos_all.head(3)"
   ]
  },
  {
   "cell_type": "markdown",
   "metadata": {},
   "source": [
    "# Análisis de resultados a nivel de equipo"
   ]
  },
  {
   "cell_type": "code",
   "execution_count": 31,
   "metadata": {},
   "outputs": [],
   "source": [
    "# Goles:"
   ]
  },
  {
   "cell_type": "code",
   "execution_count": 100,
   "metadata": {},
   "outputs": [
    {
     "data": {
      "text/plain": [
       "Cluster  Lugar\n",
       "0        Casa     13\n",
       "2        Fuera    12\n",
       "0        Fuera    11\n",
       "1        Fuera     8\n",
       "         Casa      8\n",
       "2        Casa      5\n",
       "dtype: int64"
      ]
     },
     "execution_count": 100,
     "metadata": {},
     "output_type": "execute_result"
    }
   ],
   "source": [
    "mask = ((datos_all['type_id']==16) \n",
    "      & (datos_all['team_id'] == 176))\n",
    "\n",
    "datos_all[mask][['Cluster','Lugar']].value_counts()"
   ]
  },
  {
   "cell_type": "code",
   "execution_count": 101,
   "metadata": {},
   "outputs": [
    {
     "data": {
      "text/plain": [
       "Cluster  Lugar\n",
       "0        Casa     15\n",
       "         Fuera    12\n",
       "2        Casa      9\n",
       "         Fuera     8\n",
       "1        Fuera     8\n",
       "         Casa      8\n",
       "dtype: int64"
      ]
     },
     "execution_count": 101,
     "metadata": {},
     "output_type": "execute_result"
    }
   ],
   "source": [
    "#Goles encajados\n",
    "mask = ((datos_all['type_id']==16) \n",
    "      & (datos_all['team_id'] != 176))\n",
    "\n",
    "datos_all[mask][['Cluster','Lugar']].value_counts()"
   ]
  },
  {
   "cell_type": "code",
   "execution_count": 104,
   "metadata": {},
   "outputs": [
    {
     "data": {
      "text/plain": [
       "Cluster  Resultado\n",
       "0        Ganado       14\n",
       "         Empate       14\n",
       "2        Derrota      12\n",
       "1        Ganado       10\n",
       "0        Derrota       8\n",
       "1        Derrota       6\n",
       "2        Ganado        4\n",
       "         Empate        4\n",
       "1        Empate        4\n",
       "dtype: int64"
      ]
     },
     "execution_count": 104,
     "metadata": {},
     "output_type": "execute_result"
    }
   ],
   "source": [
    "#Marcador\n",
    "mask = ((datos_all['type_id']==32) \n",
    "      & (datos_all['team_id'] == 176))\n",
    "\n",
    "datos_all[mask][['Cluster','Resultado']].value_counts()\n",
    "\n",
    "# REVISAR !!"
   ]
  },
  {
   "cell_type": "code",
   "execution_count": 105,
   "metadata": {},
   "outputs": [],
   "source": [
    "# Faltas recibidas:"
   ]
  },
  {
   "cell_type": "code",
   "execution_count": 106,
   "metadata": {},
   "outputs": [
    {
     "data": {
      "text/plain": [
       "Cluster\n",
       "0          546\n",
       "1          340\n",
       "2          310\n",
       "dtype: int64"
      ]
     },
     "execution_count": 106,
     "metadata": {},
     "output_type": "execute_result"
    }
   ],
   "source": [
    "mask = ((datos_all['type_id']==4) \n",
    "      & (datos_all['team_id'] == 176))\n",
    "\n",
    "datos_all[mask][['Cluster']].value_counts()"
   ]
  },
  {
   "cell_type": "code",
   "execution_count": 107,
   "metadata": {},
   "outputs": [],
   "source": [
    "#Faltas realizadas:"
   ]
  },
  {
   "cell_type": "code",
   "execution_count": 108,
   "metadata": {},
   "outputs": [
    {
     "data": {
      "text/plain": [
       "Cluster\n",
       "0          550\n",
       "1          330\n",
       "2          327\n",
       "dtype: int64"
      ]
     },
     "execution_count": 108,
     "metadata": {},
     "output_type": "execute_result"
    }
   ],
   "source": [
    "mask = ((datos_all['type_id']==4) \n",
    "      & (datos_all['team_id'] != 176))\n",
    "\n",
    "datos_all[mask][['Cluster']].value_counts()"
   ]
  },
  {
   "cell_type": "code",
   "execution_count": 109,
   "metadata": {},
   "outputs": [],
   "source": [
    "#Tarjetas recibidas:"
   ]
  },
  {
   "cell_type": "code",
   "execution_count": 110,
   "metadata": {},
   "outputs": [
    {
     "data": {
      "text/plain": [
       "Cluster\n",
       "0          62\n",
       "2          33\n",
       "1          25\n",
       "dtype: int64"
      ]
     },
     "execution_count": 110,
     "metadata": {},
     "output_type": "execute_result"
    }
   ],
   "source": [
    "mask = ((datos_all['type_id']==17) \n",
    "      & (datos_all['team_id'] == 176))\n",
    "\n",
    "datos_all[mask][['Cluster']].value_counts()"
   ]
  },
  {
   "cell_type": "code",
   "execution_count": 111,
   "metadata": {},
   "outputs": [],
   "source": [
    "#Tarjetas sacadas al rival:"
   ]
  },
  {
   "cell_type": "code",
   "execution_count": 112,
   "metadata": {},
   "outputs": [
    {
     "data": {
      "text/plain": [
       "Cluster\n",
       "0          50\n",
       "1          31\n",
       "2          28\n",
       "dtype: int64"
      ]
     },
     "execution_count": 112,
     "metadata": {},
     "output_type": "execute_result"
    }
   ],
   "source": [
    "mask = ((datos_all['type_id']==17) \n",
    "      & (datos_all['team_id'] != 176))\n",
    "\n",
    "datos_all[mask][['Cluster']].value_counts()"
   ]
  },
  {
   "cell_type": "code",
   "execution_count": null,
   "metadata": {},
   "outputs": [],
   "source": [
    "### GRAFICAS"
   ]
  },
  {
   "cell_type": "code",
   "execution_count": null,
   "metadata": {},
   "outputs": [],
   "source": [
    "g = sns.catplot(x='year', y='income', data=data, kind='bar', hue='geo_name', legend=True)\n",
    "g.fig.set_size_inches(16,8)\n",
    "g.fig.subplots_adjust(top=0.81,right=0.86) \n",
    "\n",
    "ax = g.facet_axis(0,0)\n",
    "for p in ax.patches:\n",
    "    ax.text(p.get_x() - 0.01, \n",
    "            p.get_height() * 1.02, \n",
    "           '{0:.1f}K'.format(p.get_height()/1000),   #Used to format it K representation\n",
    "            color='black', \n",
    "            rotation='horizontal', \n",
    "            size='large')"
   ]
  },
  {
   "cell_type": "code",
   "execution_count": 149,
   "metadata": {},
   "outputs": [
    {
     "data": {
      "image/png": "[encoded data removed]",
      "text/plain": [
       "<Figure size 928x432 with 1 Axes>"
      ]
     },
     "metadata": {
      "needs_background": "light"
     },
     "output_type": "display_data"
    }
   ],
   "source": [
    "df_goles = datos_all[(datos_all['type_id']==16)& (datos_all['team_id'] == 176)]\n",
    "g = sns_plot = sns.catplot(x='Cluster', data=df_goles, kind=\"count\", height=6, aspect=2, edgecolor='black', \n",
    "                       hue = 'Lugar',palette=\"Set1\", legend = True).set(title ='Goles marcados')"
   ]
  }
 ],
 "metadata": {
  "kernelspec": {
   "display_name": "Python 3",
   "language": "python",
   "name": "python3"
  },
  "language_info": {
   "codemirror_mode": {
    "name": "ipython",
    "version": 3
   },
   "file_extension": ".py",
   "mimetype": "text/x-python",
   "name": "python",
   "nbconvert_exporter": "python",
   "pygments_lexer": "ipython3",
   "version": "3.8.5"
  }
 },
 "nbformat": 4,
 "nbformat_minor": 4
}
