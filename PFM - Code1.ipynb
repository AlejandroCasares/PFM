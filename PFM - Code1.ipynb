{
 "cells": [
  {
   "cell_type": "markdown",
   "metadata": {},
   "source": [
    "# Proyecto Fin de Máster (PFM) - Pasos iniciales"
   ]
  },
  {
   "cell_type": "code",
   "execution_count": 20,
   "metadata": {},
   "outputs": [],
   "source": [
    "import pandas as pd\n",
    "from sklearn.preprocessing import StandardScaler\n",
    "from sklearn.cluster import KMeans\n",
    "\n",
    "from matplotlib import pyplot as plt\n",
    "from matplotlib.ticker import FixedLocator, FixedFormatter\n",
    "import seaborn as sns\n"
   ]
  },
  {
   "cell_type": "code",
   "execution_count": 43,
   "metadata": {},
   "outputs": [],
   "source": [
    "Equipos = pd.read_excel('Equipos_Liga_Santander_202021.xlsx')"
   ]
  },
  {
   "cell_type": "code",
   "execution_count": 44,
   "metadata": {},
   "outputs": [
    {
     "data": {
      "text/html": [
       "<div>\n",
       "<style scoped>\n",
       "    .dataframe tbody tr th:only-of-type {\n",
       "        vertical-align: middle;\n",
       "    }\n",
       "\n",
       "    .dataframe tbody tr th {\n",
       "        vertical-align: top;\n",
       "    }\n",
       "\n",
       "    .dataframe thead th {\n",
       "        text-align: right;\n",
       "    }\n",
       "</style>\n",
       "<table border=\"1\" class=\"dataframe\">\n",
       "  <thead>\n",
       "    <tr style=\"text-align: right;\">\n",
       "      <th></th>\n",
       "      <th>Equipo</th>\n",
       "      <th>Nombre Completo</th>\n",
       "      <th>Abrebiatura</th>\n",
       "      <th>Estadio</th>\n",
       "      <th>Latitud</th>\n",
       "      <th>Longitud</th>\n",
       "      <th>Altitud</th>\n",
       "      <th>Distancia</th>\n",
       "      <th>Tiempo_Viaje</th>\n",
       "    </tr>\n",
       "  </thead>\n",
       "  <tbody>\n",
       "    <tr>\n",
       "      <th>0</th>\n",
       "      <td>Atlético</td>\n",
       "      <td>Club Atlético de Madrid</td>\n",
       "      <td>ATM</td>\n",
       "      <td>Wanda Metropolitano</td>\n",
       "      <td>40°26′10″N</td>\n",
       "      <td>3°35′58″O</td>\n",
       "      <td>664</td>\n",
       "      <td>677</td>\n",
       "      <td>1h 10min</td>\n",
       "    </tr>\n",
       "    <tr>\n",
       "      <th>1</th>\n",
       "      <td>Real Madrid</td>\n",
       "      <td>Real Madrid Club de Fútbol</td>\n",
       "      <td>RMA</td>\n",
       "      <td>Santigo Bernabeu</td>\n",
       "      <td>40°27′11″N</td>\n",
       "      <td>3°41′18″O</td>\n",
       "      <td>698</td>\n",
       "      <td>678</td>\n",
       "      <td>1h 10min</td>\n",
       "    </tr>\n",
       "    <tr>\n",
       "      <th>2</th>\n",
       "      <td>Barcelona</td>\n",
       "      <td>Fútbol Club Barcelona</td>\n",
       "      <td>FCB</td>\n",
       "      <td>Camp Nou</td>\n",
       "      <td>41°22′51″N</td>\n",
       "      <td>2°07′21″E</td>\n",
       "      <td>190</td>\n",
       "      <td>1141</td>\n",
       "      <td>1h 40min</td>\n",
       "    </tr>\n",
       "    <tr>\n",
       "      <th>3</th>\n",
       "      <td>Sevilla</td>\n",
       "      <td>Sevilla Fútbol Club</td>\n",
       "      <td>SEV</td>\n",
       "      <td>Ramón Sánchez-Pizjuán</td>\n",
       "      <td>37°23′02″N</td>\n",
       "      <td>5°58′14″O</td>\n",
       "      <td>14</td>\n",
       "      <td>727</td>\n",
       "      <td>1h 25min</td>\n",
       "    </tr>\n",
       "    <tr>\n",
       "      <th>4</th>\n",
       "      <td>Real Sociedad</td>\n",
       "      <td>Real Sociedad S.A.D.</td>\n",
       "      <td>RSO</td>\n",
       "      <td>Anoeta</td>\n",
       "      <td>43°18′05″N</td>\n",
       "      <td>1°58′25″O</td>\n",
       "      <td>191</td>\n",
       "      <td>757</td>\n",
       "      <td>NaN</td>\n",
       "    </tr>\n",
       "  </tbody>\n",
       "</table>\n",
       "</div>"
      ],
      "text/plain": [
       "          Equipo             Nombre Completo Abrebiatura  \\\n",
       "0       Atlético     Club Atlético de Madrid         ATM   \n",
       "1    Real Madrid  Real Madrid Club de Fútbol         RMA   \n",
       "2      Barcelona       Fútbol Club Barcelona         FCB   \n",
       "3        Sevilla         Sevilla Fútbol Club         SEV   \n",
       "4  Real Sociedad        Real Sociedad S.A.D.         RSO   \n",
       "\n",
       "                  Estadio     Latitud   Longitud  Altitud  Distancia  \\\n",
       "0     Wanda Metropolitano  40°26′10″N  3°35′58″O      664        677   \n",
       "1        Santigo Bernabeu  40°27′11″N  3°41′18″O      698        678   \n",
       "2                Camp Nou  41°22′51″N  2°07′21″E      190       1141   \n",
       "3  Ramón Sánchez-Pizjuán   37°23′02″N  5°58′14″O       14        727   \n",
       "4                  Anoeta  43°18′05″N  1°58′25″O      191        757   \n",
       "\n",
       "  Tiempo_Viaje  \n",
       "0     1h 10min  \n",
       "1     1h 10min  \n",
       "2     1h 40min  \n",
       "3     1h 25min  \n",
       "4          NaN  "
      ]
     },
     "execution_count": 44,
     "metadata": {},
     "output_type": "execute_result"
    }
   ],
   "source": [
    "Equipos.head()"
   ]
  },
  {
   "cell_type": "code",
   "execution_count": 45,
   "metadata": {},
   "outputs": [],
   "source": [
    "# Escalar las variables Altitud y Distancia\n",
    "Equipos['Altitud_std'] = Equipos['Altitud']\n",
    "Equipos['Distancia_std'] = Equipos['Distancia']\n",
    "\n",
    "Equipos[['Altitud_std', 'Distancia_std']] = StandardScaler().fit_transform(Equipos[['Altitud', 'Distancia']])"
   ]
  },
  {
   "cell_type": "code",
   "execution_count": 46,
   "metadata": {},
   "outputs": [
    {
     "data": {
      "image/png": "[encoded data removed]",
      "text/plain": [
       "<Figure size 1152x576 with 1 Axes>"
      ]
     },
     "metadata": {
      "needs_background": "light"
     },
     "output_type": "display_data"
    }
   ],
   "source": [
    "# Visualizamos los datos\n",
    "X3 = Equipos[['Altitud_std', 'Distancia_std']].values\n",
    "plt.figure(figsize=(16, 8))\n",
    "plt.scatter(X3[:, 0], X3[:, 1], c=None, s=23, color='blue')\n",
    "plt.xlabel(\"Altitud_std\", fontsize=14)\n",
    "plt.ylabel(\"Distancia_std\", fontsize=14, rotation=90)\n",
    "plt.show()"
   ]
  },
  {
   "cell_type": "code",
   "execution_count": 47,
   "metadata": {},
   "outputs": [
    {
     "data": {
      "image/png": "[encoded data removed]",
      "text/plain": [
       "<Figure size 576x252 with 1 Axes>"
      ]
     },
     "metadata": {
      "needs_background": "light"
     },
     "output_type": "display_data"
    }
   ],
   "source": [
    "#Obtención del númeor de clusters\n",
    "\n",
    "kmeans_per_k = [KMeans(n_clusters=k, random_state=42).fit(X3)\n",
    "                for k in range(1, 10)]\n",
    "inertias = [model.inertia_ for model in kmeans_per_k]\n",
    "\n",
    "plt.figure(figsize=(8, 3.5))\n",
    "plt.plot(range(1, 10), inertias, \"bo-\")\n",
    "plt.xlabel(\"$k$\", fontsize=14)\n",
    "plt.ylabel(\"Inertia\", fontsize=14)\n",
    "plt.show()"
   ]
  },
  {
   "cell_type": "code",
   "execution_count": 48,
   "metadata": {},
   "outputs": [],
   "source": [
    "def Exec_KMeans(k, X):\n",
    "    \n",
    "    kmeans = KMeans(n_clusters=k, random_state=42)\n",
    "    y_pred = kmeans.fit_predict(X)\n",
    "    \n",
    "    print(\"Centros de los clusters: \", kmeans.cluster_centers_)\n",
    "    \n",
    "    plt.figure(figsize=(16, 6))\n",
    "    cl = ['red', 'green', 'blue', 'black', 'yellow']\n",
    "    assign = []\n",
    "    for row in y_pred:\n",
    "        assign.append(cl[row])\n",
    "        \n",
    "    plt.scatter(X[:,0], X[:,1], c=assign, s=70)\n",
    "    \n",
    "    plt.show()\n",
    "    \n",
    "    return y_pred"
   ]
  },
  {
   "cell_type": "code",
   "execution_count": 32,
   "metadata": {},
   "outputs": [
    {
     "name": "stdout",
     "output_type": "stream",
     "text": [
      "Centros de los clusters:  [[ 1.38688794 -0.61720079]\n",
      " [-0.8279026   0.47534334]\n",
      " [ 0.5791919   0.35162108]\n",
      " [-0.97218125 -3.07391382]]\n"
     ]
    },
    {
     "data": {
      "image/png": "[encoded data removed]",
      "text/plain": [
       "<Figure size 1152x432 with 1 Axes>"
      ]
     },
     "metadata": {
      "needs_background": "light"
     },
     "output_type": "display_data"
    }
   ],
   "source": [
    "# Ejecutamos KMeans con el número de clusters (K) que hayas elegido y guardalo en una variable 'Cluster'\n",
    "# en el dataset original (dt, si es tu caso)\n",
    "selectedK = 4\n",
    "y_pred = Exec_KMeans(selectedK, X3)"
   ]
  },
  {
   "cell_type": "code",
   "execution_count": 49,
   "metadata": {},
   "outputs": [
    {
     "name": "stdout",
     "output_type": "stream",
     "text": [
      "Centros de los clusters:  [[ 1.38688794 -0.61720079]\n",
      " [-0.8279026   0.47534334]\n",
      " [ 0.5791919   0.35162108]\n",
      " [-0.97218125 -3.07391382]]\n"
     ]
    },
    {
     "data": {
      "image/png": "[encoded data removed]",
      "text/plain": [
       "<Figure size 1152x432 with 1 Axes>"
      ]
     },
     "metadata": {
      "needs_background": "light"
     },
     "output_type": "display_data"
    },
    {
     "data": {
      "text/html": [
       "<div>\n",
       "<style scoped>\n",
       "    .dataframe tbody tr th:only-of-type {\n",
       "        vertical-align: middle;\n",
       "    }\n",
       "\n",
       "    .dataframe tbody tr th {\n",
       "        vertical-align: top;\n",
       "    }\n",
       "\n",
       "    .dataframe thead th {\n",
       "        text-align: right;\n",
       "    }\n",
       "</style>\n",
       "<table border=\"1\" class=\"dataframe\">\n",
       "  <thead>\n",
       "    <tr style=\"text-align: right;\">\n",
       "      <th></th>\n",
       "      <th>Equipo</th>\n",
       "      <th>Nombre Completo</th>\n",
       "      <th>Abrebiatura</th>\n",
       "      <th>Estadio</th>\n",
       "      <th>Latitud</th>\n",
       "      <th>Longitud</th>\n",
       "      <th>Altitud</th>\n",
       "      <th>Distancia</th>\n",
       "      <th>Tiempo_Viaje</th>\n",
       "      <th>Altitud_std</th>\n",
       "      <th>Distancia_std</th>\n",
       "      <th>Cluster</th>\n",
       "    </tr>\n",
       "  </thead>\n",
       "  <tbody>\n",
       "    <tr>\n",
       "      <th>0</th>\n",
       "      <td>Atlético</td>\n",
       "      <td>Club Atlético de Madrid</td>\n",
       "      <td>ATM</td>\n",
       "      <td>Wanda Metropolitano</td>\n",
       "      <td>40°26′10″N</td>\n",
       "      <td>3°35′58″O</td>\n",
       "      <td>664</td>\n",
       "      <td>677</td>\n",
       "      <td>1h 10min</td>\n",
       "      <td>1.452606</td>\n",
       "      <td>-0.345576</td>\n",
       "      <td>0</td>\n",
       "    </tr>\n",
       "    <tr>\n",
       "      <th>1</th>\n",
       "      <td>Real Madrid</td>\n",
       "      <td>Real Madrid Club de Fútbol</td>\n",
       "      <td>RMA</td>\n",
       "      <td>Santigo Bernabeu</td>\n",
       "      <td>40°27′11″N</td>\n",
       "      <td>3°41′18″O</td>\n",
       "      <td>698</td>\n",
       "      <td>678</td>\n",
       "      <td>1h 10min</td>\n",
       "      <td>1.581022</td>\n",
       "      <td>-0.341546</td>\n",
       "      <td>0</td>\n",
       "    </tr>\n",
       "    <tr>\n",
       "      <th>2</th>\n",
       "      <td>Barcelona</td>\n",
       "      <td>Fútbol Club Barcelona</td>\n",
       "      <td>FCB</td>\n",
       "      <td>Camp Nou</td>\n",
       "      <td>41°22′51″N</td>\n",
       "      <td>2°07′21″E</td>\n",
       "      <td>190</td>\n",
       "      <td>1141</td>\n",
       "      <td>1h 40min</td>\n",
       "      <td>-0.337657</td>\n",
       "      <td>1.524363</td>\n",
       "      <td>1</td>\n",
       "    </tr>\n",
       "    <tr>\n",
       "      <th>3</th>\n",
       "      <td>Sevilla</td>\n",
       "      <td>Sevilla Fútbol Club</td>\n",
       "      <td>SEV</td>\n",
       "      <td>Ramón Sánchez-Pizjuán</td>\n",
       "      <td>37°23′02″N</td>\n",
       "      <td>5°58′14″O</td>\n",
       "      <td>14</td>\n",
       "      <td>727</td>\n",
       "      <td>1h 25min</td>\n",
       "      <td>-1.002397</td>\n",
       "      <td>-0.144074</td>\n",
       "      <td>1</td>\n",
       "    </tr>\n",
       "    <tr>\n",
       "      <th>4</th>\n",
       "      <td>Real Sociedad</td>\n",
       "      <td>Real Sociedad S.A.D.</td>\n",
       "      <td>RSO</td>\n",
       "      <td>Anoeta</td>\n",
       "      <td>43°18′05″N</td>\n",
       "      <td>1°58′25″O</td>\n",
       "      <td>191</td>\n",
       "      <td>757</td>\n",
       "      <td>NaN</td>\n",
       "      <td>-0.333880</td>\n",
       "      <td>-0.023173</td>\n",
       "      <td>1</td>\n",
       "    </tr>\n",
       "  </tbody>\n",
       "</table>\n",
       "</div>"
      ],
      "text/plain": [
       "          Equipo             Nombre Completo Abrebiatura  \\\n",
       "0       Atlético     Club Atlético de Madrid         ATM   \n",
       "1    Real Madrid  Real Madrid Club de Fútbol         RMA   \n",
       "2      Barcelona       Fútbol Club Barcelona         FCB   \n",
       "3        Sevilla         Sevilla Fútbol Club         SEV   \n",
       "4  Real Sociedad        Real Sociedad S.A.D.         RSO   \n",
       "\n",
       "                  Estadio     Latitud   Longitud  Altitud  Distancia  \\\n",
       "0     Wanda Metropolitano  40°26′10″N  3°35′58″O      664        677   \n",
       "1        Santigo Bernabeu  40°27′11″N  3°41′18″O      698        678   \n",
       "2                Camp Nou  41°22′51″N  2°07′21″E      190       1141   \n",
       "3  Ramón Sánchez-Pizjuán   37°23′02″N  5°58′14″O       14        727   \n",
       "4                  Anoeta  43°18′05″N  1°58′25″O      191        757   \n",
       "\n",
       "  Tiempo_Viaje  Altitud_std  Distancia_std  Cluster  \n",
       "0     1h 10min     1.452606      -0.345576        0  \n",
       "1     1h 10min     1.581022      -0.341546        0  \n",
       "2     1h 40min    -0.337657       1.524363        1  \n",
       "3     1h 25min    -1.002397      -0.144074        1  \n",
       "4          NaN    -0.333880      -0.023173        1  "
      ]
     },
     "execution_count": 49,
     "metadata": {},
     "output_type": "execute_result"
    }
   ],
   "source": [
    "Equipos['Cluster'] = Exec_KMeans(selectedK, X3)\n",
    "Equipos.head()"
   ]
  },
  {
   "cell_type": "code",
   "execution_count": 50,
   "metadata": {},
   "outputs": [
    {
     "name": "stdout",
     "output_type": "stream",
     "text": [
      "Cluster 0\n",
      "La media de Altitud es 646.6\n",
      "La media de Distancia es  609.6\n",
      "-----------\n",
      "Cluster 1\n",
      "La media de Altitud es 60.2\n",
      "La media de Distancia es  880.7\n",
      "-----------\n",
      "Cluster 2\n",
      "La media de Altitud es  432.75\n",
      "La media de Distancia es  850.0\n",
      "Cluster 3\n",
      "La media de Altitud es  22.0\n",
      "La media de Distancia es  0.0\n"
     ]
    }
   ],
   "source": [
    "print(\"Cluster 0\")\n",
    "print(\"La media de Altitud es\", round(Equipos[Equipos['Cluster']==0]['Altitud'].mean(), 2))\n",
    "print(\"La media de Distancia es \", round(Equipos[Equipos['Cluster']==0]['Distancia'].mean(), 2))\n",
    "print(\"-----------\")\n",
    "print(\"Cluster 1\")\n",
    "print(\"La media de Altitud es\", round(Equipos[Equipos['Cluster']==1]['Altitud'].mean(), 2))\n",
    "print(\"La media de Distancia es \", round(Equipos[Equipos['Cluster']==1]['Distancia'].mean(), 2))\n",
    "print(\"-----------\")\n",
    "print(\"Cluster 2\")\n",
    "print(\"La media de Altitud es \", round(Equipos[Equipos['Cluster']==2]['Altitud'].mean(), 2))\n",
    "print(\"La media de Distancia es \", round(Equipos[Equipos['Cluster']==2]['Distancia'].mean(), 2))\n",
    "(\"-----------\")\n",
    "print(\"Cluster 3\")\n",
    "print(\"La media de Altitud es \", round(Equipos[Equipos['Cluster']==3]['Altitud'].mean(), 2))\n",
    "print(\"La media de Distancia es \", round(Equipos[Equipos['Cluster']==3]['Distancia'].mean(), 2))"
   ]
  },
  {
   "cell_type": "code",
   "execution_count": 51,
   "metadata": {},
   "outputs": [
    {
     "data": {
      "text/html": [
       "<div>\n",
       "<style scoped>\n",
       "    .dataframe tbody tr th:only-of-type {\n",
       "        vertical-align: middle;\n",
       "    }\n",
       "\n",
       "    .dataframe tbody tr th {\n",
       "        vertical-align: top;\n",
       "    }\n",
       "\n",
       "    .dataframe thead th {\n",
       "        text-align: right;\n",
       "    }\n",
       "</style>\n",
       "<table border=\"1\" class=\"dataframe\">\n",
       "  <thead>\n",
       "    <tr style=\"text-align: right;\">\n",
       "      <th></th>\n",
       "      <th>Equipo</th>\n",
       "      <th>Nombre Completo</th>\n",
       "      <th>Abrebiatura</th>\n",
       "      <th>Estadio</th>\n",
       "      <th>Latitud</th>\n",
       "      <th>Longitud</th>\n",
       "      <th>Altitud</th>\n",
       "      <th>Distancia</th>\n",
       "      <th>Tiempo_Viaje</th>\n",
       "      <th>Altitud_std</th>\n",
       "      <th>Distancia_std</th>\n",
       "      <th>Cluster</th>\n",
       "    </tr>\n",
       "  </thead>\n",
       "  <tbody>\n",
       "    <tr>\n",
       "      <th>0</th>\n",
       "      <td>Atlético</td>\n",
       "      <td>Club Atlético de Madrid</td>\n",
       "      <td>ATM</td>\n",
       "      <td>Wanda Metropolitano</td>\n",
       "      <td>40°26′10″N</td>\n",
       "      <td>3°35′58″O</td>\n",
       "      <td>664</td>\n",
       "      <td>677</td>\n",
       "      <td>1h 10min</td>\n",
       "      <td>1.452606</td>\n",
       "      <td>-0.345576</td>\n",
       "      <td>0</td>\n",
       "    </tr>\n",
       "    <tr>\n",
       "      <th>1</th>\n",
       "      <td>Real Madrid</td>\n",
       "      <td>Real Madrid Club de Fútbol</td>\n",
       "      <td>RMA</td>\n",
       "      <td>Santigo Bernabeu</td>\n",
       "      <td>40°27′11″N</td>\n",
       "      <td>3°41′18″O</td>\n",
       "      <td>698</td>\n",
       "      <td>678</td>\n",
       "      <td>1h 10min</td>\n",
       "      <td>1.581022</td>\n",
       "      <td>-0.341546</td>\n",
       "      <td>0</td>\n",
       "    </tr>\n",
       "    <tr>\n",
       "      <th>15</th>\n",
       "      <td>Alavés</td>\n",
       "      <td>Deportivo Alavés S.A.D.</td>\n",
       "      <td>ALV</td>\n",
       "      <td>Mendizorroza</td>\n",
       "      <td>42°50′14″N</td>\n",
       "      <td>2°41′17″O</td>\n",
       "      <td>517</td>\n",
       "      <td>656</td>\n",
       "      <td>NaN</td>\n",
       "      <td>0.897398</td>\n",
       "      <td>-0.430207</td>\n",
       "      <td>0</td>\n",
       "    </tr>\n",
       "    <tr>\n",
       "      <th>14</th>\n",
       "      <td>Getafe</td>\n",
       "      <td>Getafe Club de Futbol S.A.D.</td>\n",
       "      <td>GET</td>\n",
       "      <td>Coliseum Alfonso Pérez</td>\n",
       "      <td>40°19′32″N</td>\n",
       "      <td>3°42′53″O</td>\n",
       "      <td>629</td>\n",
       "      <td>602</td>\n",
       "      <td>1h 10min</td>\n",
       "      <td>1.320414</td>\n",
       "      <td>-0.647829</td>\n",
       "      <td>0</td>\n",
       "    </tr>\n",
       "    <tr>\n",
       "      <th>18</th>\n",
       "      <td>Real Valladolid</td>\n",
       "      <td>Real Valladolid Club de Futbol S.A.D.</td>\n",
       "      <td>VLL</td>\n",
       "      <td>José Zorrilla</td>\n",
       "      <td>41°38′40″N</td>\n",
       "      <td>4°45′40″O﻿</td>\n",
       "      <td>725</td>\n",
       "      <td>435</td>\n",
       "      <td>NaN</td>\n",
       "      <td>1.682999</td>\n",
       "      <td>-1.320846</td>\n",
       "      <td>0</td>\n",
       "    </tr>\n",
       "    <tr>\n",
       "      <th>16</th>\n",
       "      <td>Elche</td>\n",
       "      <td>Elche Club de Futbol S.A.D.</td>\n",
       "      <td>ELC</td>\n",
       "      <td>Martínez Valero</td>\n",
       "      <td>38°16′01″N</td>\n",
       "      <td>0°39′48″O</td>\n",
       "      <td>76</td>\n",
       "      <td>1009</td>\n",
       "      <td>1h 30min</td>\n",
       "      <td>-0.768227</td>\n",
       "      <td>0.992398</td>\n",
       "      <td>1</td>\n",
       "    </tr>\n",
       "    <tr>\n",
       "      <th>13</th>\n",
       "      <td>Levante</td>\n",
       "      <td>Levante Unión Deportiva S.A.D.</td>\n",
       "      <td>LEV</td>\n",
       "      <td>Ciutat de Valencia</td>\n",
       "      <td>39°29′41″N</td>\n",
       "      <td>0°21′51″O</td>\n",
       "      <td>11</td>\n",
       "      <td>992</td>\n",
       "      <td>1h 20min</td>\n",
       "      <td>-1.013727</td>\n",
       "      <td>0.923887</td>\n",
       "      <td>1</td>\n",
       "    </tr>\n",
       "    <tr>\n",
       "      <th>12</th>\n",
       "      <td>Valencia</td>\n",
       "      <td>Valencia Club de Futbol S.A.D.</td>\n",
       "      <td>VAL</td>\n",
       "      <td>Mestalla</td>\n",
       "      <td>39°28′29″N</td>\n",
       "      <td>0°21′30″O</td>\n",
       "      <td>11</td>\n",
       "      <td>1000</td>\n",
       "      <td>1h 20min</td>\n",
       "      <td>-1.013727</td>\n",
       "      <td>0.956127</td>\n",
       "      <td>1</td>\n",
       "    </tr>\n",
       "    <tr>\n",
       "      <th>11</th>\n",
       "      <td>Cádiz</td>\n",
       "      <td>Cádiz Club de Fútbol S.A.D.</td>\n",
       "      <td>CDZ</td>\n",
       "      <td>Nuevo Mirandilla</td>\n",
       "      <td>36°30′10″N</td>\n",
       "      <td>6°16′23″O</td>\n",
       "      <td>0</td>\n",
       "      <td>841</td>\n",
       "      <td>NaN</td>\n",
       "      <td>-1.055274</td>\n",
       "      <td>0.315351</td>\n",
       "      <td>1</td>\n",
       "    </tr>\n",
       "    <tr>\n",
       "      <th>9</th>\n",
       "      <td>Athletic</td>\n",
       "      <td>Athletic Club</td>\n",
       "      <td>ATH</td>\n",
       "      <td>San Mamés</td>\n",
       "      <td>43°15′51″N</td>\n",
       "      <td>2°56′58″O</td>\n",
       "      <td>54</td>\n",
       "      <td>610</td>\n",
       "      <td>1h 10min</td>\n",
       "      <td>-0.851320</td>\n",
       "      <td>-0.615589</td>\n",
       "      <td>1</td>\n",
       "    </tr>\n",
       "    <tr>\n",
       "      <th>6</th>\n",
       "      <td>Villarreal</td>\n",
       "      <td>Villareal Club de Futbol S.A.D.</td>\n",
       "      <td>VIL</td>\n",
       "      <td>La Cerámica</td>\n",
       "      <td>39°56′39″N</td>\n",
       "      <td>0°06′13″O</td>\n",
       "      <td>44</td>\n",
       "      <td>1004</td>\n",
       "      <td>1h 20min</td>\n",
       "      <td>-0.889089</td>\n",
       "      <td>0.972247</td>\n",
       "      <td>1</td>\n",
       "    </tr>\n",
       "    <tr>\n",
       "      <th>5</th>\n",
       "      <td>Betis</td>\n",
       "      <td>Real Betis Balompié</td>\n",
       "      <td>BET</td>\n",
       "      <td>Benito Villamarín</td>\n",
       "      <td>37°21′23″N</td>\n",
       "      <td>5°58′54″O</td>\n",
       "      <td>11</td>\n",
       "      <td>726</td>\n",
       "      <td>1h 25min</td>\n",
       "      <td>-1.013727</td>\n",
       "      <td>-0.148104</td>\n",
       "      <td>1</td>\n",
       "    </tr>\n",
       "    <tr>\n",
       "      <th>4</th>\n",
       "      <td>Real Sociedad</td>\n",
       "      <td>Real Sociedad S.A.D.</td>\n",
       "      <td>RSO</td>\n",
       "      <td>Anoeta</td>\n",
       "      <td>43°18′05″N</td>\n",
       "      <td>1°58′25″O</td>\n",
       "      <td>191</td>\n",
       "      <td>757</td>\n",
       "      <td>NaN</td>\n",
       "      <td>-0.333880</td>\n",
       "      <td>-0.023173</td>\n",
       "      <td>1</td>\n",
       "    </tr>\n",
       "    <tr>\n",
       "      <th>3</th>\n",
       "      <td>Sevilla</td>\n",
       "      <td>Sevilla Fútbol Club</td>\n",
       "      <td>SEV</td>\n",
       "      <td>Ramón Sánchez-Pizjuán</td>\n",
       "      <td>37°23′02″N</td>\n",
       "      <td>5°58′14″O</td>\n",
       "      <td>14</td>\n",
       "      <td>727</td>\n",
       "      <td>1h 25min</td>\n",
       "      <td>-1.002397</td>\n",
       "      <td>-0.144074</td>\n",
       "      <td>1</td>\n",
       "    </tr>\n",
       "    <tr>\n",
       "      <th>2</th>\n",
       "      <td>Barcelona</td>\n",
       "      <td>Fútbol Club Barcelona</td>\n",
       "      <td>FCB</td>\n",
       "      <td>Camp Nou</td>\n",
       "      <td>41°22′51″N</td>\n",
       "      <td>2°07′21″E</td>\n",
       "      <td>190</td>\n",
       "      <td>1141</td>\n",
       "      <td>1h 40min</td>\n",
       "      <td>-0.337657</td>\n",
       "      <td>1.524363</td>\n",
       "      <td>1</td>\n",
       "    </tr>\n",
       "    <tr>\n",
       "      <th>10</th>\n",
       "      <td>Osasuna</td>\n",
       "      <td>Club Atlético Osasuna</td>\n",
       "      <td>OSA</td>\n",
       "      <td>El Sadar</td>\n",
       "      <td>42°47′48″N</td>\n",
       "      <td>1°38′13″O</td>\n",
       "      <td>432</td>\n",
       "      <td>762</td>\n",
       "      <td>NaN</td>\n",
       "      <td>0.576359</td>\n",
       "      <td>-0.003023</td>\n",
       "      <td>2</td>\n",
       "    </tr>\n",
       "    <tr>\n",
       "      <th>17</th>\n",
       "      <td>Huesca</td>\n",
       "      <td>Sociedad Deportiva Huesca S.A.D.</td>\n",
       "      <td>HUE</td>\n",
       "      <td>El Alcoraz</td>\n",
       "      <td>42°07′55″N</td>\n",
       "      <td>0°25′28″O</td>\n",
       "      <td>485</td>\n",
       "      <td>911</td>\n",
       "      <td>NaN</td>\n",
       "      <td>0.776536</td>\n",
       "      <td>0.597454</td>\n",
       "      <td>2</td>\n",
       "    </tr>\n",
       "    <tr>\n",
       "      <th>8</th>\n",
       "      <td>Granada</td>\n",
       "      <td>Granada Clubde Fútbil</td>\n",
       "      <td>GRA</td>\n",
       "      <td>Los Carmenes</td>\n",
       "      <td>37°09′11″N</td>\n",
       "      <td>3°35′45″O</td>\n",
       "      <td>475</td>\n",
       "      <td>1014</td>\n",
       "      <td>NaN</td>\n",
       "      <td>0.738767</td>\n",
       "      <td>1.012548</td>\n",
       "      <td>2</td>\n",
       "    </tr>\n",
       "    <tr>\n",
       "      <th>19</th>\n",
       "      <td>Eibar</td>\n",
       "      <td>Sociedad Deportiva Eibar S.A.D.</td>\n",
       "      <td>EIB</td>\n",
       "      <td>Ipurúa</td>\n",
       "      <td>43°10′54″N</td>\n",
       "      <td>2°28′33″O</td>\n",
       "      <td>339</td>\n",
       "      <td>713</td>\n",
       "      <td>1h 10min</td>\n",
       "      <td>0.225105</td>\n",
       "      <td>-0.200495</td>\n",
       "      <td>2</td>\n",
       "    </tr>\n",
       "    <tr>\n",
       "      <th>7</th>\n",
       "      <td>Celta</td>\n",
       "      <td>Real Club Celta de Vigo</td>\n",
       "      <td>CLT</td>\n",
       "      <td>Estadio Abanca Balaídos</td>\n",
       "      <td>42°12′43″N</td>\n",
       "      <td>8°44′25″O</td>\n",
       "      <td>22</td>\n",
       "      <td>0</td>\n",
       "      <td>0</td>\n",
       "      <td>-0.972181</td>\n",
       "      <td>-3.073914</td>\n",
       "      <td>3</td>\n",
       "    </tr>\n",
       "  </tbody>\n",
       "</table>\n",
       "</div>"
      ],
      "text/plain": [
       "             Equipo                        Nombre Completo Abrebiatura  \\\n",
       "0          Atlético                Club Atlético de Madrid         ATM   \n",
       "1       Real Madrid             Real Madrid Club de Fútbol         RMA   \n",
       "15           Alavés                Deportivo Alavés S.A.D.         ALV   \n",
       "14           Getafe           Getafe Club de Futbol S.A.D.         GET   \n",
       "18  Real Valladolid  Real Valladolid Club de Futbol S.A.D.         VLL   \n",
       "16            Elche            Elche Club de Futbol S.A.D.         ELC   \n",
       "13          Levante         Levante Unión Deportiva S.A.D.         LEV   \n",
       "12         Valencia         Valencia Club de Futbol S.A.D.         VAL   \n",
       "11            Cádiz            Cádiz Club de Fútbol S.A.D.         CDZ   \n",
       "9          Athletic                          Athletic Club         ATH   \n",
       "6        Villarreal        Villareal Club de Futbol S.A.D.         VIL   \n",
       "5             Betis                    Real Betis Balompié         BET   \n",
       "4     Real Sociedad                   Real Sociedad S.A.D.         RSO   \n",
       "3           Sevilla                    Sevilla Fútbol Club         SEV   \n",
       "2         Barcelona                  Fútbol Club Barcelona         FCB   \n",
       "10          Osasuna                  Club Atlético Osasuna         OSA   \n",
       "17           Huesca       Sociedad Deportiva Huesca S.A.D.         HUE   \n",
       "8           Granada                  Granada Clubde Fútbil         GRA   \n",
       "19            Eibar        Sociedad Deportiva Eibar S.A.D.         EIB   \n",
       "7             Celta                Real Club Celta de Vigo         CLT   \n",
       "\n",
       "                    Estadio     Latitud    Longitud  Altitud  Distancia  \\\n",
       "0       Wanda Metropolitano  40°26′10″N   3°35′58″O      664        677   \n",
       "1          Santigo Bernabeu  40°27′11″N   3°41′18″O      698        678   \n",
       "15             Mendizorroza  42°50′14″N   2°41′17″O      517        656   \n",
       "14   Coliseum Alfonso Pérez  40°19′32″N   3°42′53″O      629        602   \n",
       "18            José Zorrilla  41°38′40″N  4°45′40″O﻿      725        435   \n",
       "16          Martínez Valero  38°16′01″N   0°39′48″O       76       1009   \n",
       "13       Ciutat de Valencia  39°29′41″N   0°21′51″O       11        992   \n",
       "12                 Mestalla  39°28′29″N   0°21′30″O       11       1000   \n",
       "11         Nuevo Mirandilla  36°30′10″N   6°16′23″O        0        841   \n",
       "9                 San Mamés  43°15′51″N   2°56′58″O       54        610   \n",
       "6               La Cerámica  39°56′39″N   0°06′13″O       44       1004   \n",
       "5         Benito Villamarín  37°21′23″N   5°58′54″O       11        726   \n",
       "4                    Anoeta  43°18′05″N   1°58′25″O      191        757   \n",
       "3    Ramón Sánchez-Pizjuán   37°23′02″N   5°58′14″O       14        727   \n",
       "2                  Camp Nou  41°22′51″N   2°07′21″E      190       1141   \n",
       "10                 El Sadar  42°47′48″N   1°38′13″O      432        762   \n",
       "17               El Alcoraz  42°07′55″N   0°25′28″O      485        911   \n",
       "8              Los Carmenes  37°09′11″N   3°35′45″O      475       1014   \n",
       "19                   Ipurúa  43°10′54″N   2°28′33″O      339        713   \n",
       "7   Estadio Abanca Balaídos  42°12′43″N   8°44′25″O       22          0   \n",
       "\n",
       "   Tiempo_Viaje  Altitud_std  Distancia_std  Cluster  \n",
       "0      1h 10min     1.452606      -0.345576        0  \n",
       "1      1h 10min     1.581022      -0.341546        0  \n",
       "15          NaN     0.897398      -0.430207        0  \n",
       "14     1h 10min     1.320414      -0.647829        0  \n",
       "18          NaN     1.682999      -1.320846        0  \n",
       "16     1h 30min    -0.768227       0.992398        1  \n",
       "13     1h 20min    -1.013727       0.923887        1  \n",
       "12     1h 20min    -1.013727       0.956127        1  \n",
       "11          NaN    -1.055274       0.315351        1  \n",
       "9      1h 10min    -0.851320      -0.615589        1  \n",
       "6      1h 20min    -0.889089       0.972247        1  \n",
       "5      1h 25min    -1.013727      -0.148104        1  \n",
       "4           NaN    -0.333880      -0.023173        1  \n",
       "3      1h 25min    -1.002397      -0.144074        1  \n",
       "2      1h 40min    -0.337657       1.524363        1  \n",
       "10          NaN     0.576359      -0.003023        2  \n",
       "17          NaN     0.776536       0.597454        2  \n",
       "8           NaN     0.738767       1.012548        2  \n",
       "19     1h 10min     0.225105      -0.200495        2  \n",
       "7             0    -0.972181      -3.073914        3  "
      ]
     },
     "execution_count": 51,
     "metadata": {},
     "output_type": "execute_result"
    }
   ],
   "source": [
    "Equipos.sort_values(by=['Cluster'], ascending=True)"
   ]
  },
  {
   "cell_type": "code",
   "execution_count": 78,
   "metadata": {},
   "outputs": [],
   "source": [
    "Jornadas = pd.read_excel('jornadas.xlsx')"
   ]
  },
  {
   "cell_type": "code",
   "execution_count": 79,
   "metadata": {},
   "outputs": [],
   "source": [
    "Jornadas_2 = pd.merge(Jornadas, Equipos, left_on='Rival', right_on='Equipo')"
   ]
  },
  {
   "cell_type": "code",
   "execution_count": 80,
   "metadata": {},
   "outputs": [
    {
     "data": {
      "text/plain": [
       "(38, 8)"
      ]
     },
     "execution_count": 80,
     "metadata": {},
     "output_type": "execute_result"
    }
   ],
   "source": [
    "Jornadas.shape"
   ]
  },
  {
   "cell_type": "code",
   "execution_count": 81,
   "metadata": {},
   "outputs": [
    {
     "data": {
      "text/plain": [
       "(38, 20)"
      ]
     },
     "execution_count": 81,
     "metadata": {},
     "output_type": "execute_result"
    }
   ],
   "source": [
    "Jornadas_2.shape"
   ]
  },
  {
   "cell_type": "code",
   "execution_count": 82,
   "metadata": {},
   "outputs": [],
   "source": [
    "Jornadas_2.to_excel('Jornadas_2.xlsx', index=False)"
   ]
  },
  {
   "cell_type": "code",
   "execution_count": null,
   "metadata": {},
   "outputs": [],
   "source": []
  },
  {
   "cell_type": "code",
   "execution_count": 83,
   "metadata": {},
   "outputs": [],
   "source": [
    "# Leer F24"
   ]
  },
  {
   "cell_type": "code",
   "execution_count": 84,
   "metadata": {},
   "outputs": [],
   "source": [
    "import csv\n",
    "import xml.etree.ElementTree as et\n",
    "import numpy as np\n",
    "from datetime import datetime as dt\n"
   ]
  },
  {
   "cell_type": "code",
   "execution_count": 86,
   "metadata": {},
   "outputs": [],
   "source": [
    "tree = et.ElementTree(file = \"Datos/f24/f24-23-2020-2136204-eventdetails.xml\")\n",
    "games = tree.getroot()\n"
   ]
  },
  {
   "cell_type": "code",
   "execution_count": 87,
   "metadata": {},
   "outputs": [
    {
     "data": {
      "text/plain": [
       "{'id': '2136204',\n",
       " 'additional_info': 'Behind Closed Doors',\n",
       " 'away_score': '0',\n",
       " 'away_team_id': '176',\n",
       " 'away_team_name': 'Celta de Vigo',\n",
       " 'competition_id': '23',\n",
       " 'competition_name': 'Spanish La Liga',\n",
       " 'game_date': '2020-09-12T15:00:00',\n",
       " 'home_score': '0',\n",
       " 'home_team_id': '953',\n",
       " 'home_team_name': 'Eibar',\n",
       " 'matchday': '1',\n",
       " 'period_1_start': '2020-09-12T15:01:14',\n",
       " 'period_2_start': '2020-09-12T16:01:59',\n",
       " 'season_id': '2020',\n",
       " 'season_name': 'Season 2020/2021'}"
      ]
     },
     "execution_count": 87,
     "metadata": {},
     "output_type": "execute_result"
    }
   ],
   "source": [
    "match_details = games[0].attrib\n",
    "match_details"
   ]
  },
  {
   "cell_type": "code",
   "execution_count": 98,
   "metadata": {},
   "outputs": [
    {
     "data": {
      "text/plain": [
       "<xml.etree.ElementTree.ElementTree at 0x7fa1bad54f40>"
      ]
     },
     "execution_count": 98,
     "metadata": {},
     "output_type": "execute_result"
    }
   ],
   "source": [
    "tree"
   ]
  },
  {
   "cell_type": "code",
   "execution_count": 88,
   "metadata": {},
   "outputs": [
    {
     "data": {
      "text/plain": [
       "<Element 'Games' at 0x7fa1ba22a490>"
      ]
     },
     "execution_count": 88,
     "metadata": {},
     "output_type": "execute_result"
    }
   ],
   "source": [
    "games"
   ]
  },
  {
   "cell_type": "code",
   "execution_count": 89,
   "metadata": {},
   "outputs": [
    {
     "data": {
      "text/plain": [
       "xml.etree.ElementTree.Element"
      ]
     },
     "execution_count": 89,
     "metadata": {},
     "output_type": "execute_result"
    }
   ],
   "source": [
    "type(games)"
   ]
  },
  {
   "cell_type": "code",
   "execution_count": 91,
   "metadata": {},
   "outputs": [
    {
     "ename": "ValueError",
     "evalue": "No tables found",
     "output_type": "error",
     "traceback": [
      "\u001b[0;31m---------------------------------------------------------------------------\u001b[0m",
      "\u001b[0;31mValueError\u001b[0m                                Traceback (most recent call last)",
      "\u001b[0;32m<ipython-input-91-596ba481153f>\u001b[0m in \u001b[0;36m<module>\u001b[0;34m\u001b[0m\n\u001b[0;32m----> 1\u001b[0;31m \u001b[0meventos\u001b[0m \u001b[0;34m=\u001b[0m \u001b[0mpd\u001b[0m\u001b[0;34m.\u001b[0m\u001b[0mread_html\u001b[0m\u001b[0;34m(\u001b[0m\u001b[0;34m\"Datos/f24/f24-23-2020-2136204-eventdetails.xml\"\u001b[0m\u001b[0;34m)\u001b[0m\u001b[0;34m\u001b[0m\u001b[0;34m\u001b[0m\u001b[0m\n\u001b[0m",
      "\u001b[0;32m~/opt/anaconda3/lib/python3.8/site-packages/pandas/util/_decorators.py\u001b[0m in \u001b[0;36mwrapper\u001b[0;34m(*args, **kwargs)\u001b[0m\n\u001b[1;32m    294\u001b[0m                 )\n\u001b[1;32m    295\u001b[0m                 \u001b[0mwarnings\u001b[0m\u001b[0;34m.\u001b[0m\u001b[0mwarn\u001b[0m\u001b[0;34m(\u001b[0m\u001b[0mmsg\u001b[0m\u001b[0;34m,\u001b[0m \u001b[0mFutureWarning\u001b[0m\u001b[0;34m,\u001b[0m \u001b[0mstacklevel\u001b[0m\u001b[0;34m=\u001b[0m\u001b[0mstacklevel\u001b[0m\u001b[0;34m)\u001b[0m\u001b[0;34m\u001b[0m\u001b[0;34m\u001b[0m\u001b[0m\n\u001b[0;32m--> 296\u001b[0;31m             \u001b[0;32mreturn\u001b[0m \u001b[0mfunc\u001b[0m\u001b[0;34m(\u001b[0m\u001b[0;34m*\u001b[0m\u001b[0margs\u001b[0m\u001b[0;34m,\u001b[0m \u001b[0;34m**\u001b[0m\u001b[0mkwargs\u001b[0m\u001b[0;34m)\u001b[0m\u001b[0;34m\u001b[0m\u001b[0;34m\u001b[0m\u001b[0m\n\u001b[0m\u001b[1;32m    297\u001b[0m \u001b[0;34m\u001b[0m\u001b[0m\n\u001b[1;32m    298\u001b[0m         \u001b[0;32mreturn\u001b[0m \u001b[0mwrapper\u001b[0m\u001b[0;34m\u001b[0m\u001b[0;34m\u001b[0m\u001b[0m\n",
      "\u001b[0;32m~/opt/anaconda3/lib/python3.8/site-packages/pandas/io/html.py\u001b[0m in \u001b[0;36mread_html\u001b[0;34m(io, match, flavor, header, index_col, skiprows, attrs, parse_dates, thousands, encoding, decimal, converters, na_values, keep_default_na, displayed_only)\u001b[0m\n\u001b[1;32m   1084\u001b[0m         )\n\u001b[1;32m   1085\u001b[0m     \u001b[0mvalidate_header_arg\u001b[0m\u001b[0;34m(\u001b[0m\u001b[0mheader\u001b[0m\u001b[0;34m)\u001b[0m\u001b[0;34m\u001b[0m\u001b[0;34m\u001b[0m\u001b[0m\n\u001b[0;32m-> 1086\u001b[0;31m     return _parse(\n\u001b[0m\u001b[1;32m   1087\u001b[0m         \u001b[0mflavor\u001b[0m\u001b[0;34m=\u001b[0m\u001b[0mflavor\u001b[0m\u001b[0;34m,\u001b[0m\u001b[0;34m\u001b[0m\u001b[0;34m\u001b[0m\u001b[0m\n\u001b[1;32m   1088\u001b[0m         \u001b[0mio\u001b[0m\u001b[0;34m=\u001b[0m\u001b[0mio\u001b[0m\u001b[0;34m,\u001b[0m\u001b[0;34m\u001b[0m\u001b[0;34m\u001b[0m\u001b[0m\n",
      "\u001b[0;32m~/opt/anaconda3/lib/python3.8/site-packages/pandas/io/html.py\u001b[0m in \u001b[0;36m_parse\u001b[0;34m(flavor, io, match, attrs, encoding, displayed_only, **kwargs)\u001b[0m\n\u001b[1;32m    915\u001b[0m             \u001b[0;32mbreak\u001b[0m\u001b[0;34m\u001b[0m\u001b[0;34m\u001b[0m\u001b[0m\n\u001b[1;32m    916\u001b[0m     \u001b[0;32melse\u001b[0m\u001b[0;34m:\u001b[0m\u001b[0;34m\u001b[0m\u001b[0;34m\u001b[0m\u001b[0m\n\u001b[0;32m--> 917\u001b[0;31m         \u001b[0;32mraise\u001b[0m \u001b[0mretained\u001b[0m\u001b[0;34m\u001b[0m\u001b[0;34m\u001b[0m\u001b[0m\n\u001b[0m\u001b[1;32m    918\u001b[0m \u001b[0;34m\u001b[0m\u001b[0m\n\u001b[1;32m    919\u001b[0m     \u001b[0mret\u001b[0m \u001b[0;34m=\u001b[0m \u001b[0;34m[\u001b[0m\u001b[0;34m]\u001b[0m\u001b[0;34m\u001b[0m\u001b[0;34m\u001b[0m\u001b[0m\n",
      "\u001b[0;32m~/opt/anaconda3/lib/python3.8/site-packages/pandas/io/html.py\u001b[0m in \u001b[0;36m_parse\u001b[0;34m(flavor, io, match, attrs, encoding, displayed_only, **kwargs)\u001b[0m\n\u001b[1;32m    896\u001b[0m \u001b[0;34m\u001b[0m\u001b[0m\n\u001b[1;32m    897\u001b[0m         \u001b[0;32mtry\u001b[0m\u001b[0;34m:\u001b[0m\u001b[0;34m\u001b[0m\u001b[0;34m\u001b[0m\u001b[0m\n\u001b[0;32m--> 898\u001b[0;31m             \u001b[0mtables\u001b[0m \u001b[0;34m=\u001b[0m \u001b[0mp\u001b[0m\u001b[0;34m.\u001b[0m\u001b[0mparse_tables\u001b[0m\u001b[0;34m(\u001b[0m\u001b[0;34m)\u001b[0m\u001b[0;34m\u001b[0m\u001b[0;34m\u001b[0m\u001b[0m\n\u001b[0m\u001b[1;32m    899\u001b[0m         \u001b[0;32mexcept\u001b[0m \u001b[0mValueError\u001b[0m \u001b[0;32mas\u001b[0m \u001b[0mcaught\u001b[0m\u001b[0;34m:\u001b[0m\u001b[0;34m\u001b[0m\u001b[0;34m\u001b[0m\u001b[0m\n\u001b[1;32m    900\u001b[0m             \u001b[0;31m# if `io` is an io-like object, check if it's seekable\u001b[0m\u001b[0;34m\u001b[0m\u001b[0;34m\u001b[0m\u001b[0;34m\u001b[0m\u001b[0m\n",
      "\u001b[0;32m~/opt/anaconda3/lib/python3.8/site-packages/pandas/io/html.py\u001b[0m in \u001b[0;36mparse_tables\u001b[0;34m(self)\u001b[0m\n\u001b[1;32m    215\u001b[0m         \u001b[0mlist\u001b[0m \u001b[0mof\u001b[0m \u001b[0mparsed\u001b[0m \u001b[0;34m(\u001b[0m\u001b[0mheader\u001b[0m\u001b[0;34m,\u001b[0m \u001b[0mbody\u001b[0m\u001b[0;34m,\u001b[0m \u001b[0mfooter\u001b[0m\u001b[0;34m)\u001b[0m \u001b[0mtuples\u001b[0m \u001b[0;32mfrom\u001b[0m \u001b[0mtables\u001b[0m\u001b[0;34m.\u001b[0m\u001b[0;34m\u001b[0m\u001b[0;34m\u001b[0m\u001b[0m\n\u001b[1;32m    216\u001b[0m         \"\"\"\n\u001b[0;32m--> 217\u001b[0;31m         \u001b[0mtables\u001b[0m \u001b[0;34m=\u001b[0m \u001b[0mself\u001b[0m\u001b[0;34m.\u001b[0m\u001b[0m_parse_tables\u001b[0m\u001b[0;34m(\u001b[0m\u001b[0mself\u001b[0m\u001b[0;34m.\u001b[0m\u001b[0m_build_doc\u001b[0m\u001b[0;34m(\u001b[0m\u001b[0;34m)\u001b[0m\u001b[0;34m,\u001b[0m \u001b[0mself\u001b[0m\u001b[0;34m.\u001b[0m\u001b[0mmatch\u001b[0m\u001b[0;34m,\u001b[0m \u001b[0mself\u001b[0m\u001b[0;34m.\u001b[0m\u001b[0mattrs\u001b[0m\u001b[0;34m)\u001b[0m\u001b[0;34m\u001b[0m\u001b[0;34m\u001b[0m\u001b[0m\n\u001b[0m\u001b[1;32m    218\u001b[0m         \u001b[0;32mreturn\u001b[0m \u001b[0;34m(\u001b[0m\u001b[0mself\u001b[0m\u001b[0;34m.\u001b[0m\u001b[0m_parse_thead_tbody_tfoot\u001b[0m\u001b[0;34m(\u001b[0m\u001b[0mtable\u001b[0m\u001b[0;34m)\u001b[0m \u001b[0;32mfor\u001b[0m \u001b[0mtable\u001b[0m \u001b[0;32min\u001b[0m \u001b[0mtables\u001b[0m\u001b[0;34m)\u001b[0m\u001b[0;34m\u001b[0m\u001b[0;34m\u001b[0m\u001b[0m\n\u001b[1;32m    219\u001b[0m \u001b[0;34m\u001b[0m\u001b[0m\n",
      "\u001b[0;32m~/opt/anaconda3/lib/python3.8/site-packages/pandas/io/html.py\u001b[0m in \u001b[0;36m_parse_tables\u001b[0;34m(self, doc, match, attrs)\u001b[0m\n\u001b[1;32m    545\u001b[0m \u001b[0;34m\u001b[0m\u001b[0m\n\u001b[1;32m    546\u001b[0m         \u001b[0;32mif\u001b[0m \u001b[0;32mnot\u001b[0m \u001b[0mtables\u001b[0m\u001b[0;34m:\u001b[0m\u001b[0;34m\u001b[0m\u001b[0;34m\u001b[0m\u001b[0m\n\u001b[0;32m--> 547\u001b[0;31m             \u001b[0;32mraise\u001b[0m \u001b[0mValueError\u001b[0m\u001b[0;34m(\u001b[0m\u001b[0;34m\"No tables found\"\u001b[0m\u001b[0;34m)\u001b[0m\u001b[0;34m\u001b[0m\u001b[0;34m\u001b[0m\u001b[0m\n\u001b[0m\u001b[1;32m    548\u001b[0m \u001b[0;34m\u001b[0m\u001b[0m\n\u001b[1;32m    549\u001b[0m         \u001b[0mresult\u001b[0m \u001b[0;34m=\u001b[0m \u001b[0;34m[\u001b[0m\u001b[0;34m]\u001b[0m\u001b[0;34m\u001b[0m\u001b[0;34m\u001b[0m\u001b[0m\n",
      "\u001b[0;31mValueError\u001b[0m: No tables found"
     ]
    }
   ],
   "source": [
    "eventos = pd.read_html(\"Datos/f24/f24-23-2020-2136204-eventdetails.xml\")\n"
   ]
  },
  {
   "cell_type": "code",
   "execution_count": null,
   "metadata": {},
   "outputs": [],
   "source": []
  }
 ],
 "metadata": {
  "kernelspec": {
   "display_name": "Python 3",
   "language": "python",
   "name": "python3"
  },
  "language_info": {
   "codemirror_mode": {
    "name": "ipython",
    "version": 3
   },
   "file_extension": ".py",
   "mimetype": "text/x-python",
   "name": "python",
   "nbconvert_exporter": "python",
   "pygments_lexer": "ipython3",
   "version": "3.8.5"
  }
 },
 "nbformat": 4,
 "nbformat_minor": 4
}
